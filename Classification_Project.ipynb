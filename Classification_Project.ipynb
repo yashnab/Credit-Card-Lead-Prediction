{
 "cells": [
  {
   "cell_type": "markdown",
   "metadata": {
    "id": "Ji6S8NF_JqcN"
   },
   "source": [
    "# Credit Card Lead Prediction\n",
    "\n",
    "\n",
    "\n",
    "## Scenario\n",
    "Happy Customer Bank is a mid-sized private bank that deals in all kinds of banking products, like Savings accounts, Current accounts, investment products, credit products, among other offerings.\n",
    " \n",
    "The bank also cross-sells products to its existing customers and to do so they use different kinds of communication like tele-calling, e-mails, recommendations on net banking, mobile banking, etc. \n",
    " \n",
    "In this case, the Happy Customer Bank wants to cross sell its credit cards to its existing customers. The bank has identified a set of customers that are eligible for taking these credit cards.\n",
    "\n",
    "## Problem Statement\n",
    "Now, the bank is looking for your help in identifying customers that could show higher intent towards a recommended credit card, given:\n",
    "Customer details (gender, age, region etc.)\n",
    "Details of his/her relationship with the bank (Channel_Code,Vintage, 'Avg_Asset_Value etc.)\n",
    "\n",
    "\n",
    "\n",
    "ID | Unique Identifier for a row\n",
    "\n",
    "Gender | Gender of the Customer\n",
    "\n",
    "Age | Age of the Customer (in Years)\n",
    "\n",
    "Region_Code | Code of the Region for the customers\n",
    "\n",
    "Occupation | Occupation Type for the customer\n",
    "\n",
    "Channel_Code | Acquisition Channel Code for the Customer  (Encoded)\n",
    "\n",
    "Vintage | Vintage for the Customer (In Months)\n",
    "\n",
    "Credit_Product | If the Customer has any active credit product (Home loan,Personal loan, Credit Card etc.)\n",
    "\n",
    "Avg_Account_Balance | Average Account Balance for the Customer in last 12 Months\n",
    "\n",
    "Is_Active | If the Customer is Active in last 3 Months\n",
    "\n",
    "Is_Lead(Target) | If the Customer is interested for the Credit Card0 : Customer is not interested1 : Customer is interested\n",
    "\n"
   ]
  },
  {
   "cell_type": "markdown",
   "metadata": {
    "id": "Y4GaLeAGU2pe"
   },
   "source": [
    "### List of hypothesis we need to check\n",
    "\n",
    "\n",
    "#### Competitor\n",
    "\n",
    "* Are my customer using some other banks credit card?\n",
    "* Are my prducts costly/not good as other banks?\n",
    "* Is my service not as good as other banks?\n",
    "* Do most of my customers have accounts in other banks?\n",
    "\n",
    "\n",
    "\n",
    "#### Demographic\n",
    "\n",
    "* Do males seem more interested than female in the product or vice versa?\n",
    "* Do working males are more interested than working females?\n",
    "* Are housewives have more chance to reject the product?\n",
    "* Are businessman more interested than salaried/jobless customers?\n",
    "* Are entrepreneur more interested than other occupation?\n",
    "* is the male/female ratio of customers having an impact in selling of product?\n",
    "* Are customers living in more posh are have higher chance of buying the product?\n",
    "* Is the branch customers are associated with having an impact?\n",
    "* Is age of customer a reason for him/her to reject the product?\n",
    "* Are customers in the 20's 30's have high chance of rejecting the product?\n",
    "* Are customers in the 40's and above have higher chance of buying the product?\n",
    "\n",
    "\n",
    "\n",
    "\n",
    "#### Behavourial\n",
    "\n",
    "* Are customers having less than minimum balance in last 4-5 months having high chance of rejecting the product?\n",
    "* Are customers having salary more than 50,000 interested in the product?\n",
    "* Are customers having minimun balance in their account rejecting the product?\n",
    "* Customer who have bought credit card in past has higher chance of buying the product?\n",
    "* customers who bought any other product in the past have higher chance of buying the product?\n",
    "* Customers who have not done any transaction in the last 3-4 months will reject it?\n",
    "* Customers who have not visited the bank in the last 3-4 months will reject it?\n",
    "* Customers having credit score more than 600 have higher chance of buying the product?\n",
    "\n",
    "\n",
    "#### Seasonal\n",
    "\n",
    "* Is festival season having higher chacne of customer buying a product?\n",
    "* Is unemplyment a reason for not buying credit card?\n",
    "* what time of year customer do most transactions with credit card?\n",
    "\n",
    "\n",
    "\n",
    "\n",
    "\n",
    "\n",
    "\n"
   ]
  },
  {
   "cell_type": "code",
   "execution_count": 37,
   "metadata": {
    "id": "mgmBsj-ZJdJw"
   },
   "outputs": [],
   "source": [
    "# Importing libraries\n",
    "import pandas as pd\n",
    "import numpy as np\n",
    "import matplotlib.pyplot as plt\n",
    "import seaborn as sns\n",
    "from scipy.stats import chi2_contingency\n",
    "from numpy import sqrt, abs, round\n",
    "from numpy import sqrt, abs, round\n",
    "import warnings\n",
    "from sklearn.preprocessing import LabelEncoder\n",
    "import copy\n",
    "warnings.filterwarnings(action = 'ignore')"
   ]
  },
  {
   "cell_type": "code",
   "execution_count": 38,
   "metadata": {
    "colab": {
     "base_uri": "https://localhost:8080/",
     "height": 224
    },
    "id": "hs7OR7PmJoeT",
    "outputId": "954bba15-1526-4de1-bd00-2af315bed2b6"
   },
   "outputs": [
    {
     "data": {
      "text/html": [
       "<div>\n",
       "<style scoped>\n",
       "    .dataframe tbody tr th:only-of-type {\n",
       "        vertical-align: middle;\n",
       "    }\n",
       "\n",
       "    .dataframe tbody tr th {\n",
       "        vertical-align: top;\n",
       "    }\n",
       "\n",
       "    .dataframe thead th {\n",
       "        text-align: right;\n",
       "    }\n",
       "</style>\n",
       "<table border=\"1\" class=\"dataframe\">\n",
       "  <thead>\n",
       "    <tr style=\"text-align: right;\">\n",
       "      <th></th>\n",
       "      <th>ID</th>\n",
       "      <th>Gender</th>\n",
       "      <th>Age</th>\n",
       "      <th>Region_Code</th>\n",
       "      <th>Occupation</th>\n",
       "      <th>Channel_Code</th>\n",
       "      <th>Vintage</th>\n",
       "      <th>Credit_Product</th>\n",
       "      <th>Avg_Account_Balance</th>\n",
       "      <th>Is_Active</th>\n",
       "      <th>Is_Lead</th>\n",
       "    </tr>\n",
       "  </thead>\n",
       "  <tbody>\n",
       "    <tr>\n",
       "      <th>0</th>\n",
       "      <td>NNVBBKZB</td>\n",
       "      <td>Female</td>\n",
       "      <td>73</td>\n",
       "      <td>RG268</td>\n",
       "      <td>Other</td>\n",
       "      <td>X3</td>\n",
       "      <td>43</td>\n",
       "      <td>No</td>\n",
       "      <td>1045696</td>\n",
       "      <td>No</td>\n",
       "      <td>0</td>\n",
       "    </tr>\n",
       "    <tr>\n",
       "      <th>1</th>\n",
       "      <td>IDD62UNG</td>\n",
       "      <td>Female</td>\n",
       "      <td>30</td>\n",
       "      <td>RG277</td>\n",
       "      <td>Salaried</td>\n",
       "      <td>X1</td>\n",
       "      <td>32</td>\n",
       "      <td>No</td>\n",
       "      <td>581988</td>\n",
       "      <td>No</td>\n",
       "      <td>0</td>\n",
       "    </tr>\n",
       "    <tr>\n",
       "      <th>2</th>\n",
       "      <td>HD3DSEMC</td>\n",
       "      <td>Female</td>\n",
       "      <td>56</td>\n",
       "      <td>RG268</td>\n",
       "      <td>Self_Employed</td>\n",
       "      <td>X3</td>\n",
       "      <td>26</td>\n",
       "      <td>No</td>\n",
       "      <td>1484315</td>\n",
       "      <td>Yes</td>\n",
       "      <td>0</td>\n",
       "    </tr>\n",
       "    <tr>\n",
       "      <th>3</th>\n",
       "      <td>BF3NC7KV</td>\n",
       "      <td>Male</td>\n",
       "      <td>34</td>\n",
       "      <td>RG270</td>\n",
       "      <td>Salaried</td>\n",
       "      <td>X1</td>\n",
       "      <td>19</td>\n",
       "      <td>No</td>\n",
       "      <td>470454</td>\n",
       "      <td>No</td>\n",
       "      <td>0</td>\n",
       "    </tr>\n",
       "    <tr>\n",
       "      <th>4</th>\n",
       "      <td>TEASRWXV</td>\n",
       "      <td>Female</td>\n",
       "      <td>30</td>\n",
       "      <td>RG282</td>\n",
       "      <td>Salaried</td>\n",
       "      <td>X1</td>\n",
       "      <td>33</td>\n",
       "      <td>No</td>\n",
       "      <td>886787</td>\n",
       "      <td>No</td>\n",
       "      <td>0</td>\n",
       "    </tr>\n",
       "  </tbody>\n",
       "</table>\n",
       "</div>"
      ],
      "text/plain": [
       "         ID  Gender  Age Region_Code     Occupation Channel_Code  Vintage  \\\n",
       "0  NNVBBKZB  Female   73       RG268          Other           X3       43   \n",
       "1  IDD62UNG  Female   30       RG277       Salaried           X1       32   \n",
       "2  HD3DSEMC  Female   56       RG268  Self_Employed           X3       26   \n",
       "3  BF3NC7KV    Male   34       RG270       Salaried           X1       19   \n",
       "4  TEASRWXV  Female   30       RG282       Salaried           X1       33   \n",
       "\n",
       "  Credit_Product  Avg_Account_Balance Is_Active  Is_Lead  \n",
       "0             No              1045696        No        0  \n",
       "1             No               581988        No        0  \n",
       "2             No              1484315       Yes        0  \n",
       "3             No               470454        No        0  \n",
       "4             No               886787        No        0  "
      ]
     },
     "execution_count": 38,
     "metadata": {},
     "output_type": "execute_result"
    }
   ],
   "source": [
    "#checking head of train dataset\n",
    "train=pd.read_csv(r\"C:\\Users\\YashnaBehera\\Desktop\\AV course\\ML\\train_s3TEQDk.csv\")\n",
    "train.head()"
   ]
  },
  {
   "cell_type": "code",
   "execution_count": 39,
   "metadata": {
    "colab": {
     "base_uri": "https://localhost:8080/"
    },
    "id": "VbrppaWaLT62",
    "outputId": "9eca2604-9943-4392-c6bb-857948e84d91"
   },
   "outputs": [
    {
     "name": "stdout",
     "output_type": "stream",
     "text": [
      "<class 'pandas.core.frame.DataFrame'>\n",
      "RangeIndex: 245725 entries, 0 to 245724\n",
      "Data columns (total 11 columns):\n",
      " #   Column               Non-Null Count   Dtype \n",
      "---  ------               --------------   ----- \n",
      " 0   ID                   245725 non-null  object\n",
      " 1   Gender               245725 non-null  object\n",
      " 2   Age                  245725 non-null  int64 \n",
      " 3   Region_Code          245725 non-null  object\n",
      " 4   Occupation           245725 non-null  object\n",
      " 5   Channel_Code         245725 non-null  object\n",
      " 6   Vintage              245725 non-null  int64 \n",
      " 7   Credit_Product       216400 non-null  object\n",
      " 8   Avg_Account_Balance  245725 non-null  int64 \n",
      " 9   Is_Active            245725 non-null  object\n",
      " 10  Is_Lead              245725 non-null  int64 \n",
      "dtypes: int64(4), object(7)\n",
      "memory usage: 20.6+ MB\n"
     ]
    }
   ],
   "source": [
    "train.info()"
   ]
  },
  {
   "cell_type": "code",
   "execution_count": 40,
   "metadata": {
    "id": "G1KTwtKQcWC2"
   },
   "outputs": [],
   "source": [
    "#allocating correct data type to the features\n",
    "train[\"Gender\"]=train[\"Gender\"].astype(\"category\")\n",
    "train[\"Region_Code\"]=train[\"Region_Code\"].astype(\"category\")\n",
    "train[\"Occupation\"]=train[\"Occupation\"].astype(\"category\")\n",
    "train[\"Channel_Code\"]=train[\"Channel_Code\"].astype(\"category\")\n",
    "train[\"Credit_Product\"]=train[\"Credit_Product\"].astype(\"category\")\n",
    "train[\"Is_Active\"]=train[\"Is_Active\"].astype(\"category\")\n",
    "train[\"Is_Lead\"]=train[\"Is_Lead\"].astype(\"category\")\n"
   ]
  },
  {
   "cell_type": "code",
   "execution_count": 41,
   "metadata": {},
   "outputs": [
    {
     "data": {
      "text/html": [
       "<div>\n",
       "<style scoped>\n",
       "    .dataframe tbody tr th:only-of-type {\n",
       "        vertical-align: middle;\n",
       "    }\n",
       "\n",
       "    .dataframe tbody tr th {\n",
       "        vertical-align: top;\n",
       "    }\n",
       "\n",
       "    .dataframe thead th {\n",
       "        text-align: right;\n",
       "    }\n",
       "</style>\n",
       "<table border=\"1\" class=\"dataframe\">\n",
       "  <thead>\n",
       "    <tr style=\"text-align: right;\">\n",
       "      <th></th>\n",
       "      <th>Age</th>\n",
       "      <th>Vintage</th>\n",
       "      <th>Avg_Account_Balance</th>\n",
       "    </tr>\n",
       "  </thead>\n",
       "  <tbody>\n",
       "    <tr>\n",
       "      <th>count</th>\n",
       "      <td>245725.000000</td>\n",
       "      <td>245725.000000</td>\n",
       "      <td>2.457250e+05</td>\n",
       "    </tr>\n",
       "    <tr>\n",
       "      <th>mean</th>\n",
       "      <td>43.856307</td>\n",
       "      <td>46.959141</td>\n",
       "      <td>1.128403e+06</td>\n",
       "    </tr>\n",
       "    <tr>\n",
       "      <th>std</th>\n",
       "      <td>14.828672</td>\n",
       "      <td>32.353136</td>\n",
       "      <td>8.529364e+05</td>\n",
       "    </tr>\n",
       "    <tr>\n",
       "      <th>min</th>\n",
       "      <td>23.000000</td>\n",
       "      <td>7.000000</td>\n",
       "      <td>2.079000e+04</td>\n",
       "    </tr>\n",
       "    <tr>\n",
       "      <th>25%</th>\n",
       "      <td>30.000000</td>\n",
       "      <td>20.000000</td>\n",
       "      <td>6.043100e+05</td>\n",
       "    </tr>\n",
       "    <tr>\n",
       "      <th>50%</th>\n",
       "      <td>43.000000</td>\n",
       "      <td>32.000000</td>\n",
       "      <td>8.946010e+05</td>\n",
       "    </tr>\n",
       "    <tr>\n",
       "      <th>75%</th>\n",
       "      <td>54.000000</td>\n",
       "      <td>73.000000</td>\n",
       "      <td>1.366666e+06</td>\n",
       "    </tr>\n",
       "    <tr>\n",
       "      <th>max</th>\n",
       "      <td>85.000000</td>\n",
       "      <td>135.000000</td>\n",
       "      <td>1.035201e+07</td>\n",
       "    </tr>\n",
       "  </tbody>\n",
       "</table>\n",
       "</div>"
      ],
      "text/plain": [
       "                 Age        Vintage  Avg_Account_Balance\n",
       "count  245725.000000  245725.000000         2.457250e+05\n",
       "mean       43.856307      46.959141         1.128403e+06\n",
       "std        14.828672      32.353136         8.529364e+05\n",
       "min        23.000000       7.000000         2.079000e+04\n",
       "25%        30.000000      20.000000         6.043100e+05\n",
       "50%        43.000000      32.000000         8.946010e+05\n",
       "75%        54.000000      73.000000         1.366666e+06\n",
       "max        85.000000     135.000000         1.035201e+07"
      ]
     },
     "execution_count": 41,
     "metadata": {},
     "output_type": "execute_result"
    }
   ],
   "source": [
    "train.describe()"
   ]
  },
  {
   "cell_type": "markdown",
   "metadata": {},
   "source": [
    "we only have 3 numerical varaibles \n",
    "* we can see that mean and median of age is almost same so we can say age vairable will be normally distributed\n",
    "* in vintage mean is greater than median so we can say distribution will be right skewed also std of vintage is also high\n",
    "* in account balance also mean is greater than median so we can say distribution will be right skewed\n",
    "* also values are widely spread in avg_account_balance hence std is high"
   ]
  },
  {
   "cell_type": "markdown",
   "metadata": {},
   "source": [
    "# Exploratory Data Analysis"
   ]
  },
  {
   "cell_type": "code",
   "execution_count": 42,
   "metadata": {},
   "outputs": [
    {
     "data": {
      "text/plain": [
       "<matplotlib.axes._subplots.AxesSubplot at 0x238f3c8a6c8>"
      ]
     },
     "execution_count": 42,
     "metadata": {},
     "output_type": "execute_result"
    },
    {
     "data": {
      "image/png": "[encoded data removed]",
      "text/plain": [
       "<Figure size 432x288 with 1 Axes>"
      ]
     },
     "metadata": {
      "needs_background": "light"
     },
     "output_type": "display_data"
    }
   ],
   "source": [
    " sns.kdeplot(train.Age, shade=True)"
   ]
  },
  {
   "cell_type": "markdown",
   "metadata": {},
   "source": [
    "* from the aobve graph we can say the values are a bit right skewed \n",
    "* there are lot of customers of age 25-30\n",
    "* from the box plot we can say there are no outliers in the dataset"
   ]
  },
  {
   "cell_type": "code",
   "execution_count": 43,
   "metadata": {},
   "outputs": [
    {
     "data": {
      "text/plain": [
       "<matplotlib.axes._subplots.AxesSubplot at 0x238f86483c8>"
      ]
     },
     "execution_count": 43,
     "metadata": {},
     "output_type": "execute_result"
    },
    {
     "data": {
      "image/png": "[encoded data removed]",
      "text/plain": [
       "<Figure size 432x288 with 1 Axes>"
      ]
     },
     "metadata": {
      "needs_background": "light"
     },
     "output_type": "display_data"
    }
   ],
   "source": [
    "sns.kdeplot(train.Vintage, shade=True)"
   ]
  },
  {
   "cell_type": "markdown",
   "metadata": {},
   "source": [
    "* from the above graph we can say the variable is right skewed\n",
    "* There are lot of new customers in our dataset"
   ]
  },
  {
   "cell_type": "code",
   "execution_count": 44,
   "metadata": {},
   "outputs": [
    {
     "data": {
      "text/plain": [
       "<matplotlib.axes._subplots.AxesSubplot at 0x238f79be448>"
      ]
     },
     "execution_count": 44,
     "metadata": {},
     "output_type": "execute_result"
    },
    {
     "data": {
      "image/png": "[encoded data removed]",
      "text/plain": [
       "<Figure size 432x288 with 1 Axes>"
      ]
     },
     "metadata": {
      "needs_background": "light"
     },
     "output_type": "display_data"
    }
   ],
   "source": [
    "sns.kdeplot(train.Avg_Account_Balance, shade=True)"
   ]
  },
  {
   "cell_type": "markdown",
   "metadata": {},
   "source": [
    "* from the above graph we can say the variable is right skewed\n",
    "* There are some customers with very high avg_account_balance that is reason of increase in std\n",
    "* Need to remove outliers to visualize the plot"
   ]
  },
  {
   "cell_type": "code",
   "execution_count": 45,
   "metadata": {},
   "outputs": [
    {
     "data": {
      "text/plain": [
       "<matplotlib.axes._subplots.AxesSubplot at 0x238f79e46c8>"
      ]
     },
     "execution_count": 45,
     "metadata": {},
     "output_type": "execute_result"
    },
    {
     "data": {
      "image/png": "[encoded data removed]",
      "text/plain": [
       "<Figure size 432x288 with 1 Axes>"
      ]
     },
     "metadata": {
      "needs_background": "light"
     },
     "output_type": "display_data"
    }
   ],
   "source": [
    "# standard deviation factor\n",
    "factor = 3\n",
    "\n",
    "# filtering using standard deviation (not considering obseravtions > 3* standard deviation)\n",
    "cm_data = train[train[\"Avg_Account_Balance\"] < factor*train[\"Avg_Account_Balance\"].std()]\n",
    "\n",
    "# ploting graph\n",
    "sns.kdeplot(cm_data.Avg_Account_Balance, shade=True)"
   ]
  },
  {
   "cell_type": "markdown",
   "metadata": {},
   "source": [
    "*    After Removing extreme/outliers, plots are still skewed.\n",
    "\n",
    "**Summary of Numerical Variables:**\n",
    "*   Age, vintage and avg account balance does not have any significant relation with\n",
    "*   Distribution of age and vintage variable does not have extream value and outliers but avg account balance even after removing outliers is skewed."
   ]
  },
  {
   "cell_type": "code",
   "execution_count": 46,
   "metadata": {},
   "outputs": [
    {
     "data": {
      "text/plain": [
       "<matplotlib.axes._subplots.AxesSubplot at 0x238f7a1e248>"
      ]
     },
     "execution_count": 46,
     "metadata": {},
     "output_type": "execute_result"
    },
    {
     "data": {
      "image/png": "[encoded data removed]",
      "text/plain": [
       "<Figure size 432x288 with 2 Axes>"
      ]
     },
     "metadata": {
      "needs_background": "light"
     },
     "output_type": "display_data"
    }
   ],
   "source": [
    "# correlation\n",
    "sns.heatmap(train.corr(),annot=True)"
   ]
  },
  {
   "cell_type": "markdown",
   "metadata": {},
   "source": [
    "**Inferences:**\n",
    "Age and Vintage have moderate correlation as weel as age and channel code"
   ]
  },
  {
   "cell_type": "code",
   "execution_count": 47,
   "metadata": {},
   "outputs": [],
   "source": [
    "def UVA_category(data, var_group):\n",
    "  # setting figure_size\n",
    "  size = len(var_group)\n",
    "  plt.figure(figsize = (7*size,5), dpi = 100)\n",
    "\n",
    "  # for every variable\n",
    "  for j,i in enumerate(var_group):\n",
    "    norm_count = data[i].value_counts(normalize = True)\n",
    "    n_uni = data[i].nunique()\n",
    "\n",
    "  #Plotting the variable with every information\n",
    "    plt.subplot(1,size,j+1)\n",
    "    sns.barplot(norm_count, norm_count.index , order = norm_count.index)\n",
    "    plt.xlabel('fraction/percent', fontsize = 20)\n",
    "    plt.ylabel('{}'.format(i), fontsize = 20)\n",
    "    plt.title('n_uniques = {} \\n value counts \\n {};'.format(n_uni,norm_count))\n",
    "    plt.grid(False)\n",
    "    plt.tight_layout()"
   ]
  },
  {
   "cell_type": "code",
   "execution_count": 48,
   "metadata": {},
   "outputs": [
    {
     "data": {
      "image/png": "[encoded data removed]",
      "text/plain": [
       "<Figure size 1400x500 with 2 Axes>"
      ]
     },
     "metadata": {
      "needs_background": "light"
     },
     "output_type": "display_data"
    }
   ],
   "source": [
    "UVA_category(train,[\"Gender\",\"Occupation\"])"
   ]
  },
  {
   "cell_type": "markdown",
   "metadata": {},
   "source": [
    "  **Gender:**\n",
    "    *    % Male customers is 54 where as Female customers are 45%.\n",
    "*    **Occupation:**\n",
    "    * Majority of people are self_employed.\n",
    "    * There are extremely few Entrepreneurs."
   ]
  },
  {
   "cell_type": "code",
   "execution_count": 49,
   "metadata": {},
   "outputs": [
    {
     "data": {
      "image/png": "[encoded data removed]",
      "text/plain": [
       "<Figure size 1400x500 with 2 Axes>"
      ]
     },
     "metadata": {
      "needs_background": "light"
     },
     "output_type": "display_data"
    }
   ],
   "source": [
    "UVA_category(train,[\"Is_Active\",\"Is_Lead\"])"
   ]
  },
  {
   "cell_type": "markdown",
   "metadata": {},
   "source": [
    "*    **Is_Active:**\n",
    "    *    61% of customers are not active users.\n",
    "*    **Is_Lead:**\n",
    "    *    A very mall majority (23%) of customers are considered lead"
   ]
  },
  {
   "cell_type": "code",
   "execution_count": 50,
   "metadata": {},
   "outputs": [
    {
     "data": {
      "image/png": "[encoded data removed]",
      "text/plain": [
       "<Figure size 700x500 with 1 Axes>"
      ]
     },
     "metadata": {
      "needs_background": "light"
     },
     "output_type": "display_data"
    }
   ],
   "source": [
    "UVA_category(train,[\"Region_Code\"])"
   ]
  },
  {
   "cell_type": "markdown",
   "metadata": {},
   "source": [
    "**Summary:**\n",
    "for \"region code\", there are 35 categories. There is clear relation that some region codes are more popular with customers and this trend decreases rapidly."
   ]
  },
  {
   "cell_type": "code",
   "execution_count": 51,
   "metadata": {
    "colab": {
     "base_uri": "https://localhost:8080/",
     "height": 224
    },
    "id": "qOjIg0oTiK8q",
    "outputId": "9ceed6ab-8cab-4ee1-ba70-f32cb37d2288"
   },
   "outputs": [
    {
     "data": {
      "text/html": [
       "<div>\n",
       "<style scoped>\n",
       "    .dataframe tbody tr th:only-of-type {\n",
       "        vertical-align: middle;\n",
       "    }\n",
       "\n",
       "    .dataframe tbody tr th {\n",
       "        vertical-align: top;\n",
       "    }\n",
       "\n",
       "    .dataframe thead th {\n",
       "        text-align: right;\n",
       "    }\n",
       "</style>\n",
       "<table border=\"1\" class=\"dataframe\">\n",
       "  <thead>\n",
       "    <tr style=\"text-align: right;\">\n",
       "      <th></th>\n",
       "      <th>ID</th>\n",
       "      <th>Gender</th>\n",
       "      <th>Age</th>\n",
       "      <th>Region_Code</th>\n",
       "      <th>Occupation</th>\n",
       "      <th>Channel_Code</th>\n",
       "      <th>Vintage</th>\n",
       "      <th>Credit_Product</th>\n",
       "      <th>Avg_Account_Balance</th>\n",
       "      <th>Is_Active</th>\n",
       "      <th>Is_Lead</th>\n",
       "      <th>Counts</th>\n",
       "    </tr>\n",
       "  </thead>\n",
       "  <tbody>\n",
       "    <tr>\n",
       "      <th>0</th>\n",
       "      <td>NNVBBKZB</td>\n",
       "      <td>Female</td>\n",
       "      <td>73</td>\n",
       "      <td>RG268</td>\n",
       "      <td>Other</td>\n",
       "      <td>X3</td>\n",
       "      <td>43</td>\n",
       "      <td>No</td>\n",
       "      <td>1045696</td>\n",
       "      <td>No</td>\n",
       "      <td>0</td>\n",
       "      <td>35934</td>\n",
       "    </tr>\n",
       "    <tr>\n",
       "      <th>1</th>\n",
       "      <td>IDD62UNG</td>\n",
       "      <td>Female</td>\n",
       "      <td>30</td>\n",
       "      <td>RG277</td>\n",
       "      <td>Salaried</td>\n",
       "      <td>X1</td>\n",
       "      <td>32</td>\n",
       "      <td>No</td>\n",
       "      <td>581988</td>\n",
       "      <td>No</td>\n",
       "      <td>0</td>\n",
       "      <td>12826</td>\n",
       "    </tr>\n",
       "    <tr>\n",
       "      <th>2</th>\n",
       "      <td>HD3DSEMC</td>\n",
       "      <td>Female</td>\n",
       "      <td>56</td>\n",
       "      <td>RG268</td>\n",
       "      <td>Self_Employed</td>\n",
       "      <td>X3</td>\n",
       "      <td>26</td>\n",
       "      <td>No</td>\n",
       "      <td>1484315</td>\n",
       "      <td>Yes</td>\n",
       "      <td>0</td>\n",
       "      <td>35934</td>\n",
       "    </tr>\n",
       "    <tr>\n",
       "      <th>3</th>\n",
       "      <td>BF3NC7KV</td>\n",
       "      <td>Male</td>\n",
       "      <td>34</td>\n",
       "      <td>RG270</td>\n",
       "      <td>Salaried</td>\n",
       "      <td>X1</td>\n",
       "      <td>19</td>\n",
       "      <td>No</td>\n",
       "      <td>470454</td>\n",
       "      <td>No</td>\n",
       "      <td>0</td>\n",
       "      <td>7720</td>\n",
       "    </tr>\n",
       "    <tr>\n",
       "      <th>4</th>\n",
       "      <td>TEASRWXV</td>\n",
       "      <td>Female</td>\n",
       "      <td>30</td>\n",
       "      <td>RG282</td>\n",
       "      <td>Salaried</td>\n",
       "      <td>X1</td>\n",
       "      <td>33</td>\n",
       "      <td>No</td>\n",
       "      <td>886787</td>\n",
       "      <td>No</td>\n",
       "      <td>0</td>\n",
       "      <td>5829</td>\n",
       "    </tr>\n",
       "  </tbody>\n",
       "</table>\n",
       "</div>"
      ],
      "text/plain": [
       "         ID  Gender  Age Region_Code     Occupation Channel_Code  Vintage  \\\n",
       "0  NNVBBKZB  Female   73       RG268          Other           X3       43   \n",
       "1  IDD62UNG  Female   30       RG277       Salaried           X1       32   \n",
       "2  HD3DSEMC  Female   56       RG268  Self_Employed           X3       26   \n",
       "3  BF3NC7KV    Male   34       RG270       Salaried           X1       19   \n",
       "4  TEASRWXV  Female   30       RG282       Salaried           X1       33   \n",
       "\n",
       "  Credit_Product  Avg_Account_Balance Is_Active Is_Lead  Counts  \n",
       "0             No              1045696        No       0   35934  \n",
       "1             No               581988        No       0   12826  \n",
       "2             No              1484315       Yes       0   35934  \n",
       "3             No               470454        No       0    7720  \n",
       "4             No               886787        No       0    5829  "
      ]
     },
     "execution_count": 51,
     "metadata": {},
     "output_type": "execute_result"
    }
   ],
   "source": [
    "train['Counts'] = train.groupby(['Region_Code'])['Occupation'].transform('count')\n",
    "train.head()"
   ]
  },
  {
   "cell_type": "code",
   "execution_count": 52,
   "metadata": {
    "colab": {
     "base_uri": "https://localhost:8080/"
    },
    "id": "DH7PsBO0620z",
    "outputId": "b250544c-8bb9-4b8a-f55f-61f3e2b31693"
   },
   "outputs": [
    {
     "data": {
      "text/plain": [
       "35934    35934\n",
       "29416    29416\n",
       "26840    26840\n",
       "19320    19320\n",
       "12826    12826\n",
       "12775    12775\n",
       "7863      7863\n",
       "7720      7720\n",
       "7633      7633\n",
       "6101      6101\n",
       "5950      5950\n",
       "5829      5829\n",
       "5286      5286\n",
       "5252      5252\n",
       "5093      5093\n",
       "4497      4497\n",
       "4286      4286\n",
       "3976      3976\n",
       "3687      3687\n",
       "3245      3245\n",
       "3110      3110\n",
       "2847      2847\n",
       "2793      2793\n",
       "2764      2764\n",
       "2586      2586\n",
       "2496      2496\n",
       "2018      2018\n",
       "1951      1951\n",
       "1858      1858\n",
       "1822      1822\n",
       "1788      1788\n",
       "1578      1578\n",
       "1546      1546\n",
       "1542      1542\n",
       "1497      1497\n",
       "Name: Counts, dtype: int64"
      ]
     },
     "execution_count": 52,
     "metadata": {},
     "output_type": "execute_result"
    }
   ],
   "source": [
    "train.Counts.value_counts()"
   ]
  },
  {
   "cell_type": "code",
   "execution_count": 53,
   "metadata": {
    "colab": {
     "base_uri": "https://localhost:8080/",
     "height": 224
    },
    "id": "M6gsUcY0C_KF",
    "outputId": "b7eb7b84-f325-4131-fe4b-c1277798f9f6"
   },
   "outputs": [
    {
     "data": {
      "text/html": [
       "<div>\n",
       "<style scoped>\n",
       "    .dataframe tbody tr th:only-of-type {\n",
       "        vertical-align: middle;\n",
       "    }\n",
       "\n",
       "    .dataframe tbody tr th {\n",
       "        vertical-align: top;\n",
       "    }\n",
       "\n",
       "    .dataframe thead th {\n",
       "        text-align: right;\n",
       "    }\n",
       "</style>\n",
       "<table border=\"1\" class=\"dataframe\">\n",
       "  <thead>\n",
       "    <tr style=\"text-align: right;\">\n",
       "      <th></th>\n",
       "      <th>ID</th>\n",
       "      <th>Gender</th>\n",
       "      <th>Age</th>\n",
       "      <th>Region_Code</th>\n",
       "      <th>Occupation</th>\n",
       "      <th>Channel_Code</th>\n",
       "      <th>Vintage</th>\n",
       "      <th>Credit_Product</th>\n",
       "      <th>Avg_Account_Balance</th>\n",
       "      <th>Is_Active</th>\n",
       "      <th>Is_Lead</th>\n",
       "      <th>Counts</th>\n",
       "      <th>agerange</th>\n",
       "      <th>vintage_months</th>\n",
       "      <th>balance_status</th>\n",
       "      <th>region_type</th>\n",
       "    </tr>\n",
       "  </thead>\n",
       "  <tbody>\n",
       "    <tr>\n",
       "      <th>0</th>\n",
       "      <td>NNVBBKZB</td>\n",
       "      <td>Female</td>\n",
       "      <td>73</td>\n",
       "      <td>RG268</td>\n",
       "      <td>Other</td>\n",
       "      <td>X3</td>\n",
       "      <td>43</td>\n",
       "      <td>No</td>\n",
       "      <td>1045696</td>\n",
       "      <td>No</td>\n",
       "      <td>0</td>\n",
       "      <td>35934</td>\n",
       "      <td>70+</td>\n",
       "      <td>7-45</td>\n",
       "      <td>medium balance</td>\n",
       "      <td>4</td>\n",
       "    </tr>\n",
       "    <tr>\n",
       "      <th>1</th>\n",
       "      <td>IDD62UNG</td>\n",
       "      <td>Female</td>\n",
       "      <td>30</td>\n",
       "      <td>RG277</td>\n",
       "      <td>Salaried</td>\n",
       "      <td>X1</td>\n",
       "      <td>32</td>\n",
       "      <td>No</td>\n",
       "      <td>581988</td>\n",
       "      <td>No</td>\n",
       "      <td>0</td>\n",
       "      <td>12826</td>\n",
       "      <td>18-39</td>\n",
       "      <td>7-45</td>\n",
       "      <td>low balance</td>\n",
       "      <td>4</td>\n",
       "    </tr>\n",
       "    <tr>\n",
       "      <th>2</th>\n",
       "      <td>HD3DSEMC</td>\n",
       "      <td>Female</td>\n",
       "      <td>56</td>\n",
       "      <td>RG268</td>\n",
       "      <td>Self_Employed</td>\n",
       "      <td>X3</td>\n",
       "      <td>26</td>\n",
       "      <td>No</td>\n",
       "      <td>1484315</td>\n",
       "      <td>Yes</td>\n",
       "      <td>0</td>\n",
       "      <td>35934</td>\n",
       "      <td>55-69</td>\n",
       "      <td>7-45</td>\n",
       "      <td>medium balance</td>\n",
       "      <td>4</td>\n",
       "    </tr>\n",
       "    <tr>\n",
       "      <th>3</th>\n",
       "      <td>BF3NC7KV</td>\n",
       "      <td>Male</td>\n",
       "      <td>34</td>\n",
       "      <td>RG270</td>\n",
       "      <td>Salaried</td>\n",
       "      <td>X1</td>\n",
       "      <td>19</td>\n",
       "      <td>No</td>\n",
       "      <td>470454</td>\n",
       "      <td>No</td>\n",
       "      <td>0</td>\n",
       "      <td>7720</td>\n",
       "      <td>18-39</td>\n",
       "      <td>7-45</td>\n",
       "      <td>low balance</td>\n",
       "      <td>3</td>\n",
       "    </tr>\n",
       "    <tr>\n",
       "      <th>4</th>\n",
       "      <td>TEASRWXV</td>\n",
       "      <td>Female</td>\n",
       "      <td>30</td>\n",
       "      <td>RG282</td>\n",
       "      <td>Salaried</td>\n",
       "      <td>X1</td>\n",
       "      <td>33</td>\n",
       "      <td>No</td>\n",
       "      <td>886787</td>\n",
       "      <td>No</td>\n",
       "      <td>0</td>\n",
       "      <td>5829</td>\n",
       "      <td>18-39</td>\n",
       "      <td>7-45</td>\n",
       "      <td>low balance</td>\n",
       "      <td>3</td>\n",
       "    </tr>\n",
       "  </tbody>\n",
       "</table>\n",
       "</div>"
      ],
      "text/plain": [
       "         ID  Gender  Age Region_Code     Occupation Channel_Code  Vintage  \\\n",
       "0  NNVBBKZB  Female   73       RG268          Other           X3       43   \n",
       "1  IDD62UNG  Female   30       RG277       Salaried           X1       32   \n",
       "2  HD3DSEMC  Female   56       RG268  Self_Employed           X3       26   \n",
       "3  BF3NC7KV    Male   34       RG270       Salaried           X1       19   \n",
       "4  TEASRWXV  Female   30       RG282       Salaried           X1       33   \n",
       "\n",
       "  Credit_Product  Avg_Account_Balance Is_Active Is_Lead  Counts agerange  \\\n",
       "0             No              1045696        No       0   35934      70+   \n",
       "1             No               581988        No       0   12826    18-39   \n",
       "2             No              1484315       Yes       0   35934    55-69   \n",
       "3             No               470454        No       0    7720    18-39   \n",
       "4             No               886787        No       0    5829    18-39   \n",
       "\n",
       "  vintage_months  balance_status region_type  \n",
       "0           7-45  medium balance           4  \n",
       "1           7-45     low balance           4  \n",
       "2           7-45  medium balance           4  \n",
       "3           7-45     low balance           3  \n",
       "4           7-45     low balance           3  "
      ]
     },
     "execution_count": 53,
     "metadata": {},
     "output_type": "execute_result"
    }
   ],
   "source": [
    "#binning frequency of regions into 4 categories where 1 \n",
    "#being the lowest and 4 highest frequency region w\n",
    "bins = [18, 40, 55, 70, 120]\n",
    "labels = ['18-39','40-54', '55-69', '70+']\n",
    "train['agerange'] = pd.cut(train.Age, bins, labels = labels,include_lowest = True)\n",
    "\n",
    "bins = [7,46, 77,110, 140]\n",
    "labels = ['7-45','46-76', '77-109', '110+']\n",
    "train['vintage_months'] = pd.cut(train.Vintage, bins, labels = labels,include_lowest = True)\n",
    "\n",
    "bins = [100000,1000000, 5000000,20000000]\n",
    "labels = ['low balance','medium balance','high balance']\n",
    "train['balance_status'] = pd.cut(train.Avg_Account_Balance, bins, labels = labels,include_lowest = True)\n",
    "\n",
    "bins = [1000, 2000, 5000, 10000, 36000]\n",
    "labels = ['1','2', '3', '4']\n",
    "train['region_type'] = pd.cut(train.Counts, bins, labels = labels,include_lowest = True)\n",
    "train.head()"
   ]
  },
  {
   "cell_type": "code",
   "execution_count": 54,
   "metadata": {},
   "outputs": [],
   "source": [
    "def BVA_categorical_plot(data, tar, cat):\n",
    "\n",
    "  data = data[[cat,tar]][:]\n",
    "\n",
    "  table = pd.crosstab(data[tar],data[cat],)\n",
    "  f_obs = np.array([table.iloc[0][:].values,\n",
    "                    table.iloc[1][:].values])\n",
    "\n",
    "  chi, p, dof, expected = chi2_contingency(f_obs)\n",
    "\n",
    "  if p<0.05:\n",
    "    sig = True\n",
    "  else:\n",
    "    sig = False\n",
    "\n",
    "  sns.countplot(x=cat, hue=tar, data=data,color=\"yellow\")\n",
    "  plt.title(\"p-value = {}\\n difference significant? = {}\\n Chi-square = {}\".format(round(p,5),sig,round(chi,2)))\n",
    "  plt.grid(b=None)\n",
    "  ax1 = data.groupby(cat)[tar].value_counts(normalize=True).unstack()*100\n",
    "  ax1.plot(kind='bar', stacked='True',title=str(ax1))\n",
    "  int_level = data[cat].value_counts()  \n",
    "  plt.grid(b=None)"
   ]
  },
  {
   "cell_type": "code",
   "execution_count": 55,
   "metadata": {},
   "outputs": [
    {
     "data": {
      "image/png": "[encoded data removed]",
      "text/plain": [
       "<Figure size 432x288 with 1 Axes>"
      ]
     },
     "metadata": {
      "needs_background": "light"
     },
     "output_type": "display_data"
    },
    {
     "data": {
      "image/png": "[encoded data removed]",
      "text/plain": [
       "<Figure size 432x288 with 1 Axes>"
      ]
     },
     "metadata": {
      "needs_background": "light"
     },
     "output_type": "display_data"
    }
   ],
   "source": [
    "BVA_categorical_plot(train, 'Is_Lead', 'Gender')"
   ]
  },
  {
   "cell_type": "markdown",
   "metadata": {},
   "source": [
    "**RESULTS:**\n",
    "\n",
    "- By the p_value of Chi square test, we can assume that the difference between the males and females lead customer is significant (They are independent)/ the gender has a significant impact on the lead target.\n",
    "- By the frequecies, we can assume that males are more likely to be lead target."
   ]
  },
  {
   "cell_type": "code",
   "execution_count": 56,
   "metadata": {},
   "outputs": [
    {
     "data": {
      "image/png": "[encoded data removed]",
      "text/plain": [
       "<Figure size 432x288 with 1 Axes>"
      ]
     },
     "metadata": {
      "needs_background": "light"
     },
     "output_type": "display_data"
    },
    {
     "data": {
      "image/png": "[encoded data removed]",
      "text/plain": [
       "<Figure size 432x288 with 1 Axes>"
      ]
     },
     "metadata": {
      "needs_background": "light"
     },
     "output_type": "display_data"
    }
   ],
   "source": [
    "BVA_categorical_plot(train, 'Is_Lead', 'agerange')"
   ]
  },
  {
   "cell_type": "markdown",
   "metadata": {},
   "source": [
    "**RESULTS:**\n",
    "\n",
    "- By the p_value of the Chi-square test, we can assume that the Age has a significant impact on the lead target.\n",
    "- By the frequency, we can assume that customer between the age range of 40-70 are more likely to be lead target than customer betweenage range of 18-40 and 70+ adults."
   ]
  },
  {
   "cell_type": "code",
   "execution_count": 57,
   "metadata": {},
   "outputs": [
    {
     "data": {
      "image/png": "[encoded data removed]",
      "text/plain": [
       "<Figure size 432x288 with 1 Axes>"
      ]
     },
     "metadata": {
      "needs_background": "light"
     },
     "output_type": "display_data"
    },
    {
     "data": {
      "image/png": "[encoded data removed]",
      "text/plain": [
       "<Figure size 432x288 with 1 Axes>"
      ]
     },
     "metadata": {
      "needs_background": "light"
     },
     "output_type": "display_data"
    }
   ],
   "source": [
    "BVA_categorical_plot(train, 'Is_Lead', 'Occupation')"
   ]
  },
  {
   "cell_type": "markdown",
   "metadata": {},
   "source": [
    "**RESULTS:**\n",
    "\n",
    "- By the p_value of the Chi-square test, we can assume that the Occupation has a significant impact on the lead target.\n",
    "- By the frequency, we can assume that entrepreneurs are more likely to become lead tagets than self employed."
   ]
  },
  {
   "cell_type": "code",
   "execution_count": 58,
   "metadata": {},
   "outputs": [
    {
     "data": {
      "image/png": "[encoded data removed]",
      "text/plain": [
       "<Figure size 432x288 with 1 Axes>"
      ]
     },
     "metadata": {
      "needs_background": "light"
     },
     "output_type": "display_data"
    },
    {
     "data": {
      "image/png": "[encoded data removed]",
      "text/plain": [
       "<Figure size 432x288 with 1 Axes>"
      ]
     },
     "metadata": {
      "needs_background": "light"
     },
     "output_type": "display_data"
    }
   ],
   "source": [
    "BVA_categorical_plot(train, 'Is_Lead', 'Channel_Code')"
   ]
  },
  {
   "cell_type": "markdown",
   "metadata": {},
   "source": [
    "**RESULTS:**\n",
    "\n",
    "- By the p_value of the Chi-square test, we can assume that the Channel_Code has a significant impact on the lead target.\n",
    "- By the frequency, we can assume that customers acquired from X3 channel are more likely to become lead tagets than customers coming from X2 channel."
   ]
  },
  {
   "cell_type": "code",
   "execution_count": 59,
   "metadata": {},
   "outputs": [
    {
     "data": {
      "image/png": "[encoded data removed]",
      "text/plain": [
       "<Figure size 432x288 with 1 Axes>"
      ]
     },
     "metadata": {
      "needs_background": "light"
     },
     "output_type": "display_data"
    },
    {
     "data": {
      "image/png": "[encoded data removed]",
      "text/plain": [
       "<Figure size 432x288 with 1 Axes>"
      ]
     },
     "metadata": {
      "needs_background": "light"
     },
     "output_type": "display_data"
    }
   ],
   "source": [
    "BVA_categorical_plot(train, 'Is_Lead', 'vintage_months')"
   ]
  },
  {
   "cell_type": "markdown",
   "metadata": {},
   "source": [
    "**RESULTS:**\n",
    "\n",
    "- By the p_value of the Chi-square test, we can assume that the vintage_months has a significant impact on the lead target.\n",
    "- By the frequency, we can assume that customers who have been with the bank fro 77-109 months (6-9 years) are more likely to become lead tagets than customers who have been with the bank for more tha 109 months (9 years and more)."
   ]
  },
  {
   "cell_type": "code",
   "execution_count": 60,
   "metadata": {},
   "outputs": [
    {
     "data": {
      "image/png": "[encoded data removed]",
      "text/plain": [
       "<Figure size 432x288 with 1 Axes>"
      ]
     },
     "metadata": {
      "needs_background": "light"
     },
     "output_type": "display_data"
    },
    {
     "data": {
      "image/png": "[encoded data removed]",
      "text/plain": [
       "<Figure size 432x288 with 1 Axes>"
      ]
     },
     "metadata": {
      "needs_background": "light"
     },
     "output_type": "display_data"
    }
   ],
   "source": [
    "BVA_categorical_plot(train, 'Is_Lead', 'Is_Active')"
   ]
  },
  {
   "cell_type": "markdown",
   "metadata": {},
   "source": [
    "**RESULTS:**\n",
    "\n",
    "- By the p_value of the Chi-square test, we can assume that credit_product and Is_Active has a significant impact on the lead target.\n",
    "- By the frequency, we can assume that customers who are active and have credit product are more likely to become lead tagets."
   ]
  },
  {
   "cell_type": "code",
   "execution_count": 61,
   "metadata": {},
   "outputs": [
    {
     "data": {
      "image/png": "[encoded data removed]",
      "text/plain": [
       "<Figure size 432x288 with 1 Axes>"
      ]
     },
     "metadata": {
      "needs_background": "light"
     },
     "output_type": "display_data"
    },
    {
     "data": {
      "image/png": "[encoded data removed]",
      "text/plain": [
       "<Figure size 432x288 with 1 Axes>"
      ]
     },
     "metadata": {
      "needs_background": "light"
     },
     "output_type": "display_data"
    }
   ],
   "source": [
    "BVA_categorical_plot(train, 'Is_Lead', 'balance_status')"
   ]
  },
  {
   "cell_type": "markdown",
   "metadata": {},
   "source": [
    "* There is no such difference in the account balance and customer interested in the product"
   ]
  },
  {
   "cell_type": "markdown",
   "metadata": {},
   "source": [
    "# Missing Value"
   ]
  },
  {
   "cell_type": "code",
   "execution_count": 63,
   "metadata": {
    "colab": {
     "base_uri": "https://localhost:8080/"
    },
    "id": "UsWEkPhkLZ5N",
    "outputId": "fc0cc8a1-df16-478b-d4a9-9119a885e26a"
   },
   "outputs": [
    {
     "data": {
      "text/plain": [
       "ID                         0\n",
       "Gender                     0\n",
       "Age                        0\n",
       "Region_Code                0\n",
       "Occupation                 0\n",
       "Channel_Code               0\n",
       "Vintage                    0\n",
       "Credit_Product         29325\n",
       "Avg_Account_Balance        0\n",
       "Is_Active                  0\n",
       "Is_Lead                    0\n",
       "Counts                     0\n",
       "agerange                   0\n",
       "vintage_months             0\n",
       "balance_status            78\n",
       "region_type                0\n",
       "dtype: int64"
      ]
     },
     "execution_count": 63,
     "metadata": {},
     "output_type": "execute_result"
    }
   ],
   "source": [
    "#checking for null value \n",
    "train.isnull().sum()"
   ]
  },
  {
   "cell_type": "code",
   "execution_count": 64,
   "metadata": {
    "id": "NwC-N0UnaNtD"
   },
   "outputs": [],
   "source": [
    "train.drop(train.index[112176],inplace=True)"
   ]
  },
  {
   "cell_type": "code",
   "execution_count": 65,
   "metadata": {
    "colab": {
     "base_uri": "https://localhost:8080/"
    },
    "id": "hL8RegvSabMz",
    "outputId": "633cd375-0f77-491e-8231-09d6322a9391"
   },
   "outputs": [
    {
     "data": {
      "text/plain": [
       "ID                       object\n",
       "Gender                 category\n",
       "Age                       int64\n",
       "Region_Code            category\n",
       "Occupation             category\n",
       "Channel_Code           category\n",
       "Vintage                   int64\n",
       "Credit_Product         category\n",
       "Avg_Account_Balance       int64\n",
       "Is_Active              category\n",
       "Is_Lead                category\n",
       "Counts                    int64\n",
       "agerange               category\n",
       "vintage_months         category\n",
       "balance_status         category\n",
       "region_type            category\n",
       "dtype: object"
      ]
     },
     "execution_count": 65,
     "metadata": {},
     "output_type": "execute_result"
    }
   ],
   "source": [
    "#checking data types\n",
    "train.dtypes"
   ]
  },
  {
   "cell_type": "code",
   "execution_count": 66,
   "metadata": {
    "id": "w1RKSfGOXjNN"
   },
   "outputs": [],
   "source": [
    "#imputing missing values of credit produvts according to vintage\n",
    "credit_product_mode = train.pivot_table(values='Credit_Product', columns='Vintage', aggfunc=(lambda x: x.mode()[0]))\n",
    "#channel_mode\n",
    "miss_bool = train['Credit_Product'].isnull()\n",
    "train.loc[miss_bool, 'Credit_Product'] = train.loc[miss_bool, 'Vintage'].apply(lambda x:credit_product_mode[x])"
   ]
  },
  {
   "cell_type": "code",
   "execution_count": 67,
   "metadata": {
    "colab": {
     "base_uri": "https://localhost:8080/"
    },
    "id": "5VesK4JKLB33",
    "outputId": "b52413e8-db3c-4c5d-ab13-6782783b0a94"
   },
   "outputs": [
    {
     "data": {
      "text/plain": [
       "2038130.5"
      ]
     },
     "execution_count": 67,
     "metadata": {},
     "output_type": "execute_result"
    }
   ],
   "source": [
    "#calculating max limit for removing outliers\n",
    "quant25 = train[\"Avg_Account_Balance\"].quantile(0.25)\n",
    "quant75 = train[\"Avg_Account_Balance\"].quantile(0.75)\n",
    "IQR = quant75 - quant25\n",
    "med = train[\"Avg_Account_Balance\"].median()\n",
    "whis_high = med+(1.5*IQR)\n",
    "whis_high"
   ]
  },
  {
   "cell_type": "code",
   "execution_count": 68,
   "metadata": {
    "colab": {
     "base_uri": "https://localhost:8080/",
     "height": 224
    },
    "id": "rBN48_Z-LrsI",
    "outputId": "b5540ba3-3cbb-4c31-db5d-0d1c6e23f286"
   },
   "outputs": [
    {
     "data": {
      "text/html": [
       "<div>\n",
       "<style scoped>\n",
       "    .dataframe tbody tr th:only-of-type {\n",
       "        vertical-align: middle;\n",
       "    }\n",
       "\n",
       "    .dataframe tbody tr th {\n",
       "        vertical-align: top;\n",
       "    }\n",
       "\n",
       "    .dataframe thead th {\n",
       "        text-align: right;\n",
       "    }\n",
       "</style>\n",
       "<table border=\"1\" class=\"dataframe\">\n",
       "  <thead>\n",
       "    <tr style=\"text-align: right;\">\n",
       "      <th></th>\n",
       "      <th>ID</th>\n",
       "      <th>Gender</th>\n",
       "      <th>Age</th>\n",
       "      <th>Region_Code</th>\n",
       "      <th>Occupation</th>\n",
       "      <th>Channel_Code</th>\n",
       "      <th>Vintage</th>\n",
       "      <th>Credit_Product</th>\n",
       "      <th>Avg_Account_Balance</th>\n",
       "      <th>Is_Active</th>\n",
       "      <th>Is_Lead</th>\n",
       "      <th>Counts</th>\n",
       "      <th>agerange</th>\n",
       "      <th>vintage_months</th>\n",
       "      <th>balance_status</th>\n",
       "      <th>region_type</th>\n",
       "    </tr>\n",
       "  </thead>\n",
       "  <tbody>\n",
       "    <tr>\n",
       "      <th>91</th>\n",
       "      <td>NKMDPPAX</td>\n",
       "      <td>Male</td>\n",
       "      <td>28</td>\n",
       "      <td>RG251</td>\n",
       "      <td>Salaried</td>\n",
       "      <td>X1</td>\n",
       "      <td>13</td>\n",
       "      <td>No</td>\n",
       "      <td>187086</td>\n",
       "      <td>No</td>\n",
       "      <td>0</td>\n",
       "      <td>5950</td>\n",
       "      <td>18-39</td>\n",
       "      <td>7-45</td>\n",
       "      <td>low balance</td>\n",
       "      <td>3</td>\n",
       "    </tr>\n",
       "    <tr>\n",
       "      <th>423</th>\n",
       "      <td>ZRIXPDBC</td>\n",
       "      <td>Male</td>\n",
       "      <td>33</td>\n",
       "      <td>RG280</td>\n",
       "      <td>Salaried</td>\n",
       "      <td>X1</td>\n",
       "      <td>14</td>\n",
       "      <td>Yes</td>\n",
       "      <td>174190</td>\n",
       "      <td>No</td>\n",
       "      <td>1</td>\n",
       "      <td>12775</td>\n",
       "      <td>18-39</td>\n",
       "      <td>7-45</td>\n",
       "      <td>low balance</td>\n",
       "      <td>4</td>\n",
       "    </tr>\n",
       "    <tr>\n",
       "      <th>854</th>\n",
       "      <td>FFH6UUKX</td>\n",
       "      <td>Male</td>\n",
       "      <td>29</td>\n",
       "      <td>RG282</td>\n",
       "      <td>Salaried</td>\n",
       "      <td>X1</td>\n",
       "      <td>14</td>\n",
       "      <td>No</td>\n",
       "      <td>160831</td>\n",
       "      <td>No</td>\n",
       "      <td>0</td>\n",
       "      <td>5829</td>\n",
       "      <td>18-39</td>\n",
       "      <td>7-45</td>\n",
       "      <td>low balance</td>\n",
       "      <td>3</td>\n",
       "    </tr>\n",
       "    <tr>\n",
       "      <th>928</th>\n",
       "      <td>BEBGJJDT</td>\n",
       "      <td>Male</td>\n",
       "      <td>33</td>\n",
       "      <td>RG252</td>\n",
       "      <td>Salaried</td>\n",
       "      <td>X1</td>\n",
       "      <td>26</td>\n",
       "      <td>No</td>\n",
       "      <td>209256</td>\n",
       "      <td>No</td>\n",
       "      <td>0</td>\n",
       "      <td>4286</td>\n",
       "      <td>18-39</td>\n",
       "      <td>7-45</td>\n",
       "      <td>low balance</td>\n",
       "      <td>2</td>\n",
       "    </tr>\n",
       "    <tr>\n",
       "      <th>1061</th>\n",
       "      <td>JHZJSY6V</td>\n",
       "      <td>Female</td>\n",
       "      <td>31</td>\n",
       "      <td>RG252</td>\n",
       "      <td>Self_Employed</td>\n",
       "      <td>X1</td>\n",
       "      <td>20</td>\n",
       "      <td>No</td>\n",
       "      <td>141643</td>\n",
       "      <td>No</td>\n",
       "      <td>0</td>\n",
       "      <td>4286</td>\n",
       "      <td>18-39</td>\n",
       "      <td>7-45</td>\n",
       "      <td>low balance</td>\n",
       "      <td>2</td>\n",
       "    </tr>\n",
       "  </tbody>\n",
       "</table>\n",
       "</div>"
      ],
      "text/plain": [
       "            ID  Gender  Age Region_Code     Occupation Channel_Code  Vintage  \\\n",
       "91    NKMDPPAX    Male   28       RG251       Salaried           X1       13   \n",
       "423   ZRIXPDBC    Male   33       RG280       Salaried           X1       14   \n",
       "854   FFH6UUKX    Male   29       RG282       Salaried           X1       14   \n",
       "928   BEBGJJDT    Male   33       RG252       Salaried           X1       26   \n",
       "1061  JHZJSY6V  Female   31       RG252  Self_Employed           X1       20   \n",
       "\n",
       "     Credit_Product  Avg_Account_Balance Is_Active Is_Lead  Counts agerange  \\\n",
       "91               No               187086        No       0    5950    18-39   \n",
       "423             Yes               174190        No       1   12775    18-39   \n",
       "854              No               160831        No       0    5829    18-39   \n",
       "928              No               209256        No       0    4286    18-39   \n",
       "1061             No               141643        No       0    4286    18-39   \n",
       "\n",
       "     vintage_months balance_status region_type  \n",
       "91             7-45    low balance           3  \n",
       "423            7-45    low balance           4  \n",
       "854            7-45    low balance           3  \n",
       "928            7-45    low balance           2  \n",
       "1061           7-45    low balance           2  "
      ]
     },
     "execution_count": 68,
     "metadata": {},
     "output_type": "execute_result"
    }
   ],
   "source": [
    "#separating outliers from the dataset\n",
    "out_rem_acc_train = train[train['Avg_Account_Balance'] < 210000.0]\n",
    "out_rem_acc_train.head()"
   ]
  },
  {
   "cell_type": "code",
   "execution_count": 69,
   "metadata": {
    "colab": {
     "base_uri": "https://localhost:8080/"
    },
    "id": "Oez7eE-VLrUC",
    "outputId": "cc4fcaa3-2936-4f7b-d8a8-f384a422f9ba"
   },
   "outputs": [
    {
     "data": {
      "text/plain": [
       "0"
      ]
     },
     "execution_count": 69,
     "metadata": {},
     "output_type": "execute_result"
    }
   ],
   "source": [
    "train['Avg_Account_Balance'].isnull().sum()"
   ]
  },
  {
   "cell_type": "code",
   "execution_count": 70,
   "metadata": {
    "colab": {
     "base_uri": "https://localhost:8080/"
    },
    "id": "pxOncxjxMnZ5",
    "outputId": "01626ad8-f5e5-4d64-c50e-389b790bbec2"
   },
   "outputs": [
    {
     "data": {
      "text/plain": [
       "244143"
      ]
     },
     "execution_count": 70,
     "metadata": {},
     "output_type": "execute_result"
    }
   ],
   "source": [
    "train['Avg_Account_Balance'] = out_rem_acc_train['Avg_Account_Balance']\n",
    "train['Avg_Account_Balance'].isnull().sum()"
   ]
  },
  {
   "cell_type": "code",
   "execution_count": 71,
   "metadata": {
    "id": "606xnyKBLq5t"
   },
   "outputs": [],
   "source": [
    "# avg_acc_balance_mean = train.pivot_table(values='Avg_Account_Balance', columns='Vintage', aggfunc='mean')\n",
    "# avg_acc_balance_mean"
   ]
  },
  {
   "cell_type": "code",
   "execution_count": 72,
   "metadata": {
    "colab": {
     "base_uri": "https://localhost:8080/",
     "height": 80
    },
    "id": "vzwE3SBcMmrl",
    "outputId": "0199ae47-ca00-454f-ccf7-7c013bb3fd88"
   },
   "outputs": [
    {
     "data": {
      "text/html": [
       "<div>\n",
       "<style scoped>\n",
       "    .dataframe tbody tr th:only-of-type {\n",
       "        vertical-align: middle;\n",
       "    }\n",
       "\n",
       "    .dataframe tbody tr th {\n",
       "        vertical-align: top;\n",
       "    }\n",
       "\n",
       "    .dataframe thead th {\n",
       "        text-align: right;\n",
       "    }\n",
       "</style>\n",
       "<table border=\"1\" class=\"dataframe\">\n",
       "  <thead>\n",
       "    <tr style=\"text-align: right;\">\n",
       "      <th>Occupation</th>\n",
       "      <th>Entrepreneur</th>\n",
       "      <th>Other</th>\n",
       "      <th>Salaried</th>\n",
       "      <th>Self_Employed</th>\n",
       "    </tr>\n",
       "  </thead>\n",
       "  <tbody>\n",
       "    <tr>\n",
       "      <th>Avg_Account_Balance</th>\n",
       "      <td>175855.0</td>\n",
       "      <td>168966.128947</td>\n",
       "      <td>167904.33595</td>\n",
       "      <td>169519.47331</td>\n",
       "    </tr>\n",
       "  </tbody>\n",
       "</table>\n",
       "</div>"
      ],
      "text/plain": [
       "Occupation           Entrepreneur          Other      Salaried  Self_Employed\n",
       "Avg_Account_Balance      175855.0  168966.128947  167904.33595   169519.47331"
      ]
     },
     "execution_count": 72,
     "metadata": {},
     "output_type": "execute_result"
    }
   ],
   "source": [
    "avg_acc_balance_mean = train.pivot_table(values='Avg_Account_Balance', columns='Occupation', aggfunc='mean')\n",
    "avg_acc_balance_mean"
   ]
  },
  {
   "cell_type": "code",
   "execution_count": 73,
   "metadata": {
    "colab": {
     "base_uri": "https://localhost:8080/",
     "height": 367
    },
    "id": "Ee_f3cfoNmPw",
    "outputId": "cc5f9e5d-d13b-422c-e9e5-166cb3c00104"
   },
   "outputs": [
    {
     "ename": "TypeError",
     "evalue": "'Series' objects are mutable, thus they cannot be hashed",
     "output_type": "error",
     "traceback": [
      "\u001b[1;31m---------------------------------------------------------------------------\u001b[0m",
      "\u001b[1;31mTypeError\u001b[0m                                 Traceback (most recent call last)",
      "\u001b[1;32mpandas\\_libs\\hashtable_class_helper.pxi\u001b[0m in \u001b[0;36mpandas._libs.hashtable.PyObjectHashTable.map_locations\u001b[1;34m()\u001b[0m\n",
      "\u001b[1;32m~\\anaconda3\\lib\\site-packages\\pandas\\core\\generic.py\u001b[0m in \u001b[0;36m__hash__\u001b[1;34m(self)\u001b[0m\n\u001b[0;32m   1797\u001b[0m     \u001b[1;32mdef\u001b[0m \u001b[0m__hash__\u001b[0m\u001b[1;33m(\u001b[0m\u001b[0mself\u001b[0m\u001b[1;33m)\u001b[0m\u001b[1;33m:\u001b[0m\u001b[1;33m\u001b[0m\u001b[1;33m\u001b[0m\u001b[0m\n\u001b[0;32m   1798\u001b[0m         raise TypeError(\n\u001b[1;32m-> 1799\u001b[1;33m             \u001b[1;34mf\"{repr(type(self).__name__)} objects are mutable, \"\u001b[0m\u001b[1;33m\u001b[0m\u001b[1;33m\u001b[0m\u001b[0m\n\u001b[0m\u001b[0;32m   1800\u001b[0m             \u001b[1;34mf\"thus they cannot be hashed\"\u001b[0m\u001b[1;33m\u001b[0m\u001b[1;33m\u001b[0m\u001b[0m\n\u001b[0;32m   1801\u001b[0m         )\n",
      "\u001b[1;31mTypeError\u001b[0m: 'Series' objects are mutable, thus they cannot be hashed"
     ]
    },
    {
     "name": "stderr",
     "output_type": "stream",
     "text": [
      "Exception ignored in: 'pandas._libs.index.IndexEngine._call_map_locations'\n",
      "Traceback (most recent call last):\n",
      "  File \"pandas\\_libs\\hashtable_class_helper.pxi\", line 1652, in pandas._libs.hashtable.PyObjectHashTable.map_locations\n",
      "  File \"C:\\Users\\YashnaBehera\\anaconda3\\lib\\site-packages\\pandas\\core\\generic.py\", line 1799, in __hash__\n",
      "    f\"{repr(type(self).__name__)} objects are mutable, \"\n",
      "TypeError: 'Series' objects are mutable, thus they cannot be hashed\n"
     ]
    }
   ],
   "source": [
    "#replacing average acount balance null values with occupation mean\n",
    "loc1 = train['Avg_Account_Balance'].isnull()\n",
    "train.loc[loc1, 'Avg_Account_Balance'] = train.loc[loc1, 'Occupation'].apply(lambda x: avg_acc_balance_mean[x])"
   ]
  },
  {
   "cell_type": "code",
   "execution_count": 74,
   "metadata": {
    "id": "LmYOy2QwS0iQ"
   },
   "outputs": [],
   "source": [
    "# loc1 = train['Avg_Account_Balance'].isnull()\n",
    "# train.loc[loc1, 'Avg_Account_Balance'] = train.loc[loc1, 'Vintage'].apply(lambda x: avg_acc_balance_mean[x])"
   ]
  },
  {
   "cell_type": "markdown",
   "metadata": {},
   "source": [
    "# LabelEncoding"
   ]
  },
  {
   "cell_type": "code",
   "execution_count": 75,
   "metadata": {
    "id": "mfCiJYeW-rNk"
   },
   "outputs": [],
   "source": [
    "#labelencoding categorical data\n",
    "from sklearn.preprocessing import LabelEncoder\n",
    "train_encoded = train.copy()\n",
    "train_encoded.loc[:,['Gender','Occupation','Channel_Code','Credit_Product','Is_Active']] = train_encoded.loc[:,['Gender',\n",
    "                                                            'Occupation','Channel_Code','Credit_Product','Is_Active']].apply(LabelEncoder().fit_transform) "
   ]
  },
  {
   "cell_type": "code",
   "execution_count": 60,
   "metadata": {
    "id": "eXhltbnTgnN8"
   },
   "outputs": [],
   "source": [
    "# train_encoded = train.copy()\n",
    "# dummy=pd.get_dummies(train_encoded[['Gender','Occupation','Channel_Code','Credit_Product','Is_Active']],drop_first=True)\n",
    "# X=train.drop(['Gender','Occupation','Channel_Code','Credit_Product','Is_Active'],axis=1)\n",
    "# train_encoded=pd.concat([X,dummy],axis=1)"
   ]
  },
  {
   "cell_type": "code",
   "execution_count": 61,
   "metadata": {
    "id": "n3X0FHEW-qgG"
   },
   "outputs": [],
   "source": [
    "# # train_encoded = train.copy()\n",
    "# train_encoded['Gender'] = train_encoded['Gender'].map({\"Male\" :1, 'Female' :2}).astype(int) \n",
    "# train_encoded['Ever_Married'] = train_encoded['Ever_Married'].map({\"Yes\" :1, 'No' :2}).astype(int) \n",
    "# train_encoded['Graduated'] = train_encoded['Graduated'].map({\"Yes\" :1, 'No' :2}).astype(int) \n",
    "# # train_encoded['Profession'] = train_encoded['Profession'].map({\"Artist\" :1, 'Healthcare' :2, 'Entertainment' :3, 'Engineer' :4,  \n",
    "# #                                                \"Doctor\" :5, 'Lawyer' :6, 'Executive' :7, 'Marketing' :8, 'Homemaker' :9, 'Other' :10}).astype(int) \n",
    "# # train_encoded['Spending_Score'] = train_encoded['Spending_Score'].map({\"Low\" :1, 'Average' :2, 'High' :3, 'D' :4}).astype(int)\n",
    "# # train_encoded['Var_1'] = train_encoded['Var_1'].map({\"Cat_6\" :1, 'Cat_4' :2, 'Cat_3' :3, 'Cat_2' :4,  \n",
    "# #                                                \"Cat_7\" :5, 'Cat_1' :6, 'Cat_5' :7}).astype(int)                                               \n",
    "# # train_encoded['Segmentation'] = train_encoded['Segmentation'].map({\"A\" :1, 'B' :2, 'C' :3, 'D' :4}).astype(int) "
   ]
  },
  {
   "cell_type": "code",
   "execution_count": 76,
   "metadata": {
    "colab": {
     "base_uri": "https://localhost:8080/",
     "height": 224
    },
    "id": "AU4glfldhiaZ",
    "outputId": "cd8c4e2f-fe22-40b5-defa-74dcc8227dd3"
   },
   "outputs": [
    {
     "data": {
      "text/html": [
       "<div>\n",
       "<style scoped>\n",
       "    .dataframe tbody tr th:only-of-type {\n",
       "        vertical-align: middle;\n",
       "    }\n",
       "\n",
       "    .dataframe tbody tr th {\n",
       "        vertical-align: top;\n",
       "    }\n",
       "\n",
       "    .dataframe thead th {\n",
       "        text-align: right;\n",
       "    }\n",
       "</style>\n",
       "<table border=\"1\" class=\"dataframe\">\n",
       "  <thead>\n",
       "    <tr style=\"text-align: right;\">\n",
       "      <th></th>\n",
       "      <th>ID</th>\n",
       "      <th>Gender</th>\n",
       "      <th>Age</th>\n",
       "      <th>Region_Code</th>\n",
       "      <th>Occupation</th>\n",
       "      <th>Channel_Code</th>\n",
       "      <th>Vintage</th>\n",
       "      <th>Credit_Product</th>\n",
       "      <th>Avg_Account_Balance</th>\n",
       "      <th>Is_Active</th>\n",
       "      <th>Is_Lead</th>\n",
       "      <th>Counts</th>\n",
       "      <th>agerange</th>\n",
       "      <th>vintage_months</th>\n",
       "      <th>balance_status</th>\n",
       "      <th>region_type</th>\n",
       "    </tr>\n",
       "  </thead>\n",
       "  <tbody>\n",
       "    <tr>\n",
       "      <th>0</th>\n",
       "      <td>NNVBBKZB</td>\n",
       "      <td>0</td>\n",
       "      <td>73</td>\n",
       "      <td>RG268</td>\n",
       "      <td>1</td>\n",
       "      <td>2</td>\n",
       "      <td>43</td>\n",
       "      <td>0</td>\n",
       "      <td>168966.128947</td>\n",
       "      <td>0</td>\n",
       "      <td>0</td>\n",
       "      <td>35934</td>\n",
       "      <td>70+</td>\n",
       "      <td>7-45</td>\n",
       "      <td>medium balance</td>\n",
       "      <td>4</td>\n",
       "    </tr>\n",
       "    <tr>\n",
       "      <th>1</th>\n",
       "      <td>IDD62UNG</td>\n",
       "      <td>0</td>\n",
       "      <td>30</td>\n",
       "      <td>RG277</td>\n",
       "      <td>2</td>\n",
       "      <td>0</td>\n",
       "      <td>32</td>\n",
       "      <td>0</td>\n",
       "      <td>167904.335950</td>\n",
       "      <td>0</td>\n",
       "      <td>0</td>\n",
       "      <td>12826</td>\n",
       "      <td>18-39</td>\n",
       "      <td>7-45</td>\n",
       "      <td>low balance</td>\n",
       "      <td>4</td>\n",
       "    </tr>\n",
       "    <tr>\n",
       "      <th>2</th>\n",
       "      <td>HD3DSEMC</td>\n",
       "      <td>0</td>\n",
       "      <td>56</td>\n",
       "      <td>RG268</td>\n",
       "      <td>3</td>\n",
       "      <td>2</td>\n",
       "      <td>26</td>\n",
       "      <td>0</td>\n",
       "      <td>169519.473310</td>\n",
       "      <td>1</td>\n",
       "      <td>0</td>\n",
       "      <td>35934</td>\n",
       "      <td>55-69</td>\n",
       "      <td>7-45</td>\n",
       "      <td>medium balance</td>\n",
       "      <td>4</td>\n",
       "    </tr>\n",
       "    <tr>\n",
       "      <th>3</th>\n",
       "      <td>BF3NC7KV</td>\n",
       "      <td>1</td>\n",
       "      <td>34</td>\n",
       "      <td>RG270</td>\n",
       "      <td>2</td>\n",
       "      <td>0</td>\n",
       "      <td>19</td>\n",
       "      <td>0</td>\n",
       "      <td>167904.335950</td>\n",
       "      <td>0</td>\n",
       "      <td>0</td>\n",
       "      <td>7720</td>\n",
       "      <td>18-39</td>\n",
       "      <td>7-45</td>\n",
       "      <td>low balance</td>\n",
       "      <td>3</td>\n",
       "    </tr>\n",
       "    <tr>\n",
       "      <th>4</th>\n",
       "      <td>TEASRWXV</td>\n",
       "      <td>0</td>\n",
       "      <td>30</td>\n",
       "      <td>RG282</td>\n",
       "      <td>2</td>\n",
       "      <td>0</td>\n",
       "      <td>33</td>\n",
       "      <td>0</td>\n",
       "      <td>167904.335950</td>\n",
       "      <td>0</td>\n",
       "      <td>0</td>\n",
       "      <td>5829</td>\n",
       "      <td>18-39</td>\n",
       "      <td>7-45</td>\n",
       "      <td>low balance</td>\n",
       "      <td>3</td>\n",
       "    </tr>\n",
       "  </tbody>\n",
       "</table>\n",
       "</div>"
      ],
      "text/plain": [
       "         ID  Gender  Age Region_Code  Occupation  Channel_Code  Vintage  \\\n",
       "0  NNVBBKZB       0   73       RG268           1             2       43   \n",
       "1  IDD62UNG       0   30       RG277           2             0       32   \n",
       "2  HD3DSEMC       0   56       RG268           3             2       26   \n",
       "3  BF3NC7KV       1   34       RG270           2             0       19   \n",
       "4  TEASRWXV       0   30       RG282           2             0       33   \n",
       "\n",
       "   Credit_Product  Avg_Account_Balance  Is_Active Is_Lead  Counts agerange  \\\n",
       "0               0        168966.128947          0       0   35934      70+   \n",
       "1               0        167904.335950          0       0   12826    18-39   \n",
       "2               0        169519.473310          1       0   35934    55-69   \n",
       "3               0        167904.335950          0       0    7720    18-39   \n",
       "4               0        167904.335950          0       0    5829    18-39   \n",
       "\n",
       "  vintage_months  balance_status region_type  \n",
       "0           7-45  medium balance           4  \n",
       "1           7-45     low balance           4  \n",
       "2           7-45  medium balance           4  \n",
       "3           7-45     low balance           3  \n",
       "4           7-45     low balance           3  "
      ]
     },
     "execution_count": 76,
     "metadata": {},
     "output_type": "execute_result"
    }
   ],
   "source": [
    "train_encoded.head()"
   ]
  },
  {
   "cell_type": "markdown",
   "metadata": {
    "id": "XaWcbV6bjfYU"
   },
   "source": [
    "### Segregating variables: Independent and Dependent Variables"
   ]
  },
  {
   "cell_type": "code",
   "execution_count": 77,
   "metadata": {
    "colab": {
     "base_uri": "https://localhost:8080/"
    },
    "id": "_nuny3MFiXFm",
    "outputId": "ea9af31b-acf2-4235-cfbb-5224257bf664"
   },
   "outputs": [
    {
     "data": {
      "text/plain": [
       "((245724, 9), (245724,))"
      ]
     },
     "execution_count": 77,
     "metadata": {},
     "output_type": "execute_result"
    }
   ],
   "source": [
    "x=train_encoded.drop([\"Is_Lead\",'Region_Code','Counts','ID','agerange','vintage_months','balance_status'],axis=1)\n",
    "y=train_encoded[\"Is_Lead\"]\n",
    "x.shape, y.shape"
   ]
  },
  {
   "cell_type": "markdown",
   "metadata": {
    "id": "VyjHZJsAksCE"
   },
   "source": [
    "### Splitting the data into train set and the test set"
   ]
  },
  {
   "cell_type": "code",
   "execution_count": 107,
   "metadata": {
    "id": "Ka9pV735kjBR"
   },
   "outputs": [],
   "source": [
    "# Importing the train test split function\n",
    "from sklearn.model_selection import train_test_split\n",
    "train_x,test_x,train_y,test_y = train_test_split(x,y, random_state = 56, stratify=y)"
   ]
  },
  {
   "cell_type": "markdown",
   "metadata": {
    "id": "roioEGDLlBwN"
   },
   "source": [
    "### Normalising using *min_max_scaler*"
   ]
  },
  {
   "cell_type": "code",
   "execution_count": 108,
   "metadata": {
    "id": "xot7zq4Lk0q4"
   },
   "outputs": [],
   "source": [
    "from sklearn.preprocessing import MinMaxScaler\n",
    "scaler = MinMaxScaler()\n",
    "train_x = scaler.fit_transform(train_x)\n",
    "test_x=scaler.transform(test_x)"
   ]
  },
  {
   "cell_type": "code",
   "execution_count": 109,
   "metadata": {},
   "outputs": [],
   "source": [
    "#!pip install xgboost"
   ]
  },
  {
   "cell_type": "code",
   "execution_count": 110,
   "metadata": {
    "id": "LfOqIRwNlKou"
   },
   "outputs": [],
   "source": [
    "#importing all necessary models\n",
    "from sklearn.linear_model import LogisticRegression as LogReg\n",
    "from sklearn.neighbors import KNeighborsClassifier as KNN\n",
    "from sklearn.tree import DecisionTreeClassifier\n",
    "from sklearn.ensemble import RandomForestClassifier\n",
    "from xgboost.sklearn import XGBClassifier\n",
    "\n",
    "\n",
    "#importing roc auc score and classification report for checking model accurary\n",
    "from sklearn.metrics import roc_auc_score\n",
    "from sklearn.metrics import classification_report as rep\n",
    "from sklearn import metrics"
   ]
  },
  {
   "cell_type": "code",
   "execution_count": 111,
   "metadata": {
    "id": "EovzTuNQOBA0"
   },
   "outputs": [],
   "source": [
    "model1 = KNN(n_neighbors = 10,n_jobs=-1)\n",
    "model2 = LogReg(class_weight=\"balanced\",n_jobs=-1)\n",
    "model3 = DecisionTreeClassifier(class_weight=\"balanced\")\n",
    "model4 = RandomForestClassifier(class_weight=\"balanced\",n_jobs=-1)\n",
    "model5 = XGBClassifier()"
   ]
  },
  {
   "cell_type": "code",
   "execution_count": 112,
   "metadata": {
    "colab": {
     "base_uri": "https://localhost:8080/"
    },
    "id": "XGK2QrQMO3fX",
    "outputId": "eca0e1c0-3864-4736-fd53-edb3243a1dd2"
   },
   "outputs": [
    {
     "name": "stdout",
     "output_type": "stream",
     "text": [
      "[22:01:06] WARNING: C:/Users/Administrator/workspace/xgboost-win64_release_1.4.0/src/learner.cc:1095: Starting in XGBoost 1.3.0, the default evaluation metric used with the objective 'binary:logistic' was changed from 'error' to 'logloss'. Explicitly set eval_metric if you'd like to restore the old behavior.\n"
     ]
    },
    {
     "data": {
      "text/plain": [
       "XGBClassifier(base_score=0.5, booster='gbtree', colsample_bylevel=1,\n",
       "              colsample_bynode=1, colsample_bytree=1, gamma=0, gpu_id=-1,\n",
       "              importance_type='gain', interaction_constraints='',\n",
       "              learning_rate=0.300000012, max_delta_step=0, max_depth=6,\n",
       "              min_child_weight=1, missing=nan, monotone_constraints='()',\n",
       "              n_estimators=100, n_jobs=2, num_parallel_tree=1,\n",
       "              objective='binary:logistic', random_state=0, reg_alpha=0,\n",
       "              reg_lambda=1, scale_pos_weight=1, subsample=1,\n",
       "              tree_method='exact', use_label_encoder=True,\n",
       "              validate_parameters=1, verbosity=None)"
      ]
     },
     "execution_count": 112,
     "metadata": {},
     "output_type": "execute_result"
    }
   ],
   "source": [
    "model1.fit(train_x,train_y)\n",
    "model2.fit(train_x,train_y)\n",
    "model3.fit(train_x,train_y)\n",
    "model4.fit(train_x,train_y)\n",
    "model5.fit(train_x,train_y)"
   ]
  },
  {
   "cell_type": "code",
   "execution_count": 207,
   "metadata": {
    "colab": {
     "base_uri": "https://localhost:8080/"
    },
    "id": "hsBMiJFAqNAD",
    "outputId": "5c10b6ce-8252-4bdc-c19e-d3a14652ca8d"
   },
   "outputs": [
    {
     "name": "stdout",
     "output_type": "stream",
     "text": [
      "0.7904966547834156\n",
      "0.6480441470918592\n",
      "0.7126043854080187\n",
      "0.7351662841236509\n",
      "0.7964871156256613\n"
     ]
    }
   ],
   "source": [
    "print(model1.score(test_x, test_y))\n",
    "print(model2.score(test_x, test_y))\n",
    "print(model3.score(test_x, test_y))\n",
    "print(model4.score(test_x, test_y))\n",
    "print(model5.score(test_x, test_y))"
   ]
  },
  {
   "cell_type": "code",
   "execution_count": 114,
   "metadata": {
    "id": "K1Dt3WHOPnFy"
   },
   "outputs": [],
   "source": [
    "train_pred1=model1.predict(train_x)\n",
    "train_pred2=model2.predict(train_x)\n",
    "train_pred3=model3.predict(train_x)\n",
    "train_pred4=model4.predict(train_x)\n",
    "train_pred5=model5.predict(train_x)"
   ]
  },
  {
   "cell_type": "code",
   "execution_count": 115,
   "metadata": {
    "id": "zHHepRbMgKo1"
   },
   "outputs": [],
   "source": [
    "test_pred1=model1.predict(test_x)\n",
    "test_pred2=model2.predict(test_x)\n",
    "test_pred3=model3.predict(test_x)\n",
    "test_pred4=model4.predict(test_x)\n",
    "test_pred5=model5.predict(test_x)"
   ]
  },
  {
   "cell_type": "code",
   "execution_count": 116,
   "metadata": {
    "colab": {
     "base_uri": "https://localhost:8080/"
    },
    "id": "SYWfFfzlq_SS",
    "outputId": "987d0bcc-41ff-4d01-e966-81a1b547b086"
   },
   "outputs": [
    {
     "name": "stdout",
     "output_type": "stream",
     "text": [
      "knn Training F1 Score:  0.49\n",
      "knn Test F1 Score:  0.42\n",
      "logistic regression Training F1 Score:  0.48\n",
      "logistic regression Test F1 Score:  0.48\n",
      "decision tree Training F1 Score:  0.78\n",
      "decision tree Test F1 Score:  0.46\n",
      "random forest Training F1 Score:  0.8\n",
      "random forest Test F1 Score:  0.47\n",
      "xgboost Training F1 Score:  0.47\n",
      "xgboost Test F1 Score:  0.45\n"
     ]
    }
   ],
   "source": [
    "from sklearn.metrics import f1_score\n",
    "\n",
    "f1_train = f1_score(train_pred1, train_y)\n",
    "print('knn Training F1 Score: ', f1_train.round(2))\n",
    "f1_test = f1_score(test_pred1, test_y)\n",
    "print('knn Test F1 Score: ', f1_test.round(2))\n",
    "\n",
    "f1_train = f1_score(train_pred2, train_y)\n",
    "print('logistic regression Training F1 Score: ', f1_train.round(2))\n",
    "f1_test = f1_score(test_pred2, test_y)\n",
    "print('logistic regression Test F1 Score: ', f1_test.round(2))\n",
    "\n",
    "f1_train = f1_score(train_pred3, train_y)\n",
    "print('decision tree Training F1 Score: ', f1_train.round(2))\n",
    "f1_test = f1_score(test_pred3, test_y)\n",
    "print('decision tree Test F1 Score: ', f1_test.round(2))\n",
    "\n",
    "f1_train = f1_score(train_pred4, train_y)\n",
    "print('random forest Training F1 Score: ', f1_train.round(2))\n",
    "f1_test = f1_score(test_pred4, test_y)\n",
    "print('random forest Test F1 Score: ', f1_test.round(2))\n",
    "\n",
    "f1_train = f1_score(train_pred5, train_y)\n",
    "print('xgboost Training F1 Score: ', f1_train.round(2))\n",
    "f1_test = f1_score(test_pred5, test_y)\n",
    "print('xgboost Test F1 Score: ', f1_test.round(2))"
   ]
  },
  {
   "cell_type": "code",
   "execution_count": 117,
   "metadata": {
    "id": "aJJAubnHbC-A"
   },
   "outputs": [],
   "source": [
    "sns.distplot(test_y, hist=False, color=\"g\", label=\"Actual Values\")\n",
    "sns.distplot(test_pred4, hist=False, color=\"r\", label=\"Predicted Values\" )"
   ]
  },
  {
   "cell_type": "code",
   "execution_count": 75,
   "metadata": {
    "id": "6L7BulTxzHHG"
   },
   "outputs": [],
   "source": [
    "rf_params = {\n",
    "    'class_weight': [None,'balanced'],\n",
    "    'criterion':['entropy','gini'],\n",
    "    'max_depth' : [10,11],\n",
    "    'max_features': [0.8, 0.9], \n",
    "    }\n",
    "\n",
    "\n",
    "from sklearn.model_selection import GridSearchCV\n",
    "gridsearch = GridSearchCV(estimator=model4, \n",
    "                          param_grid=rf_params, \n",
    "                          scoring='roc_auc', \n",
    "                          cv=5, n_jobs=-1)"
   ]
  },
  {
   "cell_type": "code",
   "execution_count": 76,
   "metadata": {},
   "outputs": [],
   "source": [
    "# from sklearn.model_selection import RandomizedSearchCV\n",
    "\n",
    "# parameter_grid = {\n",
    "#     #'n_estimators': [100, 150],\n",
    "#     'class_weight': [None,'balanced'],\n",
    "#     'criterion':['entropy','gini'],\n",
    "#     'max_depth' : [10,11],\n",
    "#     #'max_features': [0.8, 0.9], \n",
    "#     'min_samples_split':[20, 25]\n",
    "#     }\n",
    "\n",
    "# randomsearch = RandomizedSearchCV(estimator=model4, \n",
    "#                                   param_distributions=parameter_grid, \n",
    "#                                   n_iter= 15, \n",
    "#                                   cv=5)"
   ]
  },
  {
   "cell_type": "code",
   "execution_count": 77,
   "metadata": {},
   "outputs": [
    {
     "name": "stdout",
     "output_type": "stream",
     "text": [
      "{'min_samples_split': 25, 'max_depth': 11, 'criterion': 'gini', 'class_weight': None}\n",
      "0.8001606115027625\n"
     ]
    }
   ],
   "source": [
    "# randomsearch.fit(train_x, train_y)\n",
    "# print(randomsearch.best_params_)\n",
    "# print(randomsearch.best_score_)"
   ]
  },
  {
   "cell_type": "code",
   "execution_count": null,
   "metadata": {
    "colab": {
     "background_save": true
    },
    "id": "cNfAGmb-F4MP",
    "outputId": "5543952a-7bb3-4fe9-e661-44c40dde83d3"
   },
   "outputs": [],
   "source": [
    "gridsearch.fit(train_x, train_y)\n",
    "gridsearch.best_params_"
   ]
  },
  {
   "cell_type": "code",
   "execution_count": null,
   "metadata": {
    "colab": {
     "background_save": true
    },
    "id": "kvRP-frYO1FB",
    "outputId": "83697bf7-91a1-472c-fcc8-87d7b439ef8b"
   },
   "outputs": [],
   "source": [
    "gridsearch.best_score_"
   ]
  },
  {
   "cell_type": "code",
   "execution_count": 202,
   "metadata": {
    "colab": {
     "background_save": true
    },
    "id": "GrsogGijJb4w",
    "outputId": "fe130e02-ebb4-4e02-a973-ea70fe360798"
   },
   "outputs": [
    {
     "name": "stdout",
     "output_type": "stream",
     "text": [
      "0.7484657583304846\n",
      "0.7351662841236509\n"
     ]
    }
   ],
   "source": [
    "#creating a decision tree instance with random search hyperparameters\n",
    "model4 = RandomForestClassifier(class_weight=\"balanced\",\n",
    "                                n_jobs=-1, \n",
    "                                criterion= 'gini', \n",
    "                                max_depth= 11, \n",
    "                                max_features= 0.9\n",
    "                               )\n",
    "                                \n",
    "model4.fit(train_x, train_y)\n",
    "print(model4.score(train_x, train_y))\n",
    "print(model4.score(test_x, test_y))"
   ]
  },
  {
   "cell_type": "code",
   "execution_count": 203,
   "metadata": {
    "colab": {
     "base_uri": "https://localhost:8080/",
     "height": 561
    },
    "id": "5PrbfLieSo2W",
    "outputId": "893c511a-5e1b-4149-9674-f78f79fe5947"
   },
   "outputs": [
    {
     "name": "stdout",
     "output_type": "stream",
     "text": [
      "              precision    recall  f1-score   support\n",
      "\n",
      "           0       0.83      0.84      0.84     46859\n",
      "           1       0.47      0.46      0.47     14572\n",
      "\n",
      "    accuracy                           0.75     61431\n",
      "   macro avg       0.65      0.65      0.65     61431\n",
      "weighted avg       0.75      0.75      0.75     61431\n",
      "\n",
      "0.8173023823939227 0.7959203768728464\n"
     ]
    },
    {
     "data": {
      "image/png": "[encoded data removed]",
      "text/plain": [
       "<Figure size 432x288 with 1 Axes>"
      ]
     },
     "metadata": {
      "needs_background": "light"
     },
     "output_type": "display_data"
    }
   ],
   "source": [
    "pred_prob4 = model4.predict_proba(train_x)\n",
    "test_pred_prob4 = model4.predict_proba(test_x)\n",
    "\n",
    "from sklearn.metrics import classification_report as rep\n",
    "print(rep( test_y , test_pred4 ))\n",
    "train_auc_score4 = roc_auc_score(train_y, pred_prob4[:,1])\n",
    "test_auc_score4 = roc_auc_score(test_y, test_pred_prob4[:,1])\n",
    "print(train_auc_score4,test_auc_score4)\n",
    "metrics.plot_roc_curve(model4, test_x, test_y)\n",
    "plt.title(\"Recevier's Operating Characteristic\")\n",
    "plt.xlabel(\"False Positive Rate\")\n",
    "plt.ylabel(\"True Positive Rate\")\n",
    "plt.show()"
   ]
  },
  {
   "cell_type": "code",
   "execution_count": 81,
   "metadata": {
    "id": "cCeXdLVK65_q"
   },
   "outputs": [
    {
     "name": "stdout",
     "output_type": "stream",
     "text": [
      "[19:48:12] WARNING: C:/Users/Administrator/workspace/xgboost-win64_release_1.4.0/src/learner.cc:1095: Starting in XGBoost 1.3.0, the default evaluation metric used with the objective 'binary:logistic' was changed from 'error' to 'logloss'. Explicitly set eval_metric if you'd like to restore the old behavior.\n"
     ]
    },
    {
     "data": {
      "text/plain": [
       "{'learning_rate': 0.1, 'max_depth': 20, 'n_estimators': 300}"
      ]
     },
     "execution_count": 81,
     "metadata": {},
     "output_type": "execute_result"
    }
   ],
   "source": [
    "xgb_params = {\n",
    "    'learning_rate' : [0.1,0.12],\n",
    "    'max_depth' : [20,21],\n",
    "    'min_child_weight' : [11,12],\n",
    "    'n_estimators' : [300,301],\n",
    "    'subsample' : [0.6, 0.61], \n",
    "    'colsample_bytree' : [0.6, 0.61]\n",
    "\n",
    "}\n",
    "\n",
    "grid_object = GridSearchCV(estimator = model5, \n",
    "                           param_grid = xgb_params, \n",
    "                           scoring = 'roc_auc',\n",
    "                           cv = 5, \n",
    "                           n_jobs = -1)\n",
    "\n",
    "#Fitting the grid to the training data\n",
    "grid_object.fit(train_x, train_y)\n",
    "#Extracting the best parameters\n",
    "grid_object.best_params_"
   ]
  },
  {
   "cell_type": "code",
   "execution_count": 82,
   "metadata": {
    "colab": {
     "background_save": true
    },
    "id": "440vk4ocbzv2"
   },
   "outputs": [
    {
     "data": {
      "text/plain": [
       "0.7611461582815867"
      ]
     },
     "execution_count": 82,
     "metadata": {},
     "output_type": "execute_result"
    }
   ],
   "source": [
    "grid_object.best_score_"
   ]
  },
  {
   "cell_type": "code",
   "execution_count": 205,
   "metadata": {
    "colab": {
     "background_save": true
    },
    "id": "33bfqVs9bzKV"
   },
   "outputs": [
    {
     "name": "stdout",
     "output_type": "stream",
     "text": [
      "[11:16:37] WARNING: C:/Users/Administrator/workspace/xgboost-win64_release_1.4.0/src/learner.cc:1095: Starting in XGBoost 1.3.0, the default evaluation metric used with the objective 'binary:logistic' was changed from 'error' to 'logloss'. Explicitly set eval_metric if you'd like to restore the old behavior.\n",
      "0.8267758406450598\n",
      "0.7964871156256613\n"
     ]
    }
   ],
   "source": [
    "model5 = XGBClassifier(learning_rate = 0.1,\n",
    "                       max_depth = 20,\n",
    "                       min_child_weight = 11\n",
    "                       )\n",
    "                                \n",
    "model5.fit(train_x, train_y)\n",
    "print(model5.score(train_x, train_y))\n",
    "print(model5.score(test_x, test_y))"
   ]
  },
  {
   "cell_type": "code",
   "execution_count": 206,
   "metadata": {
    "colab": {
     "background_save": true
    },
    "id": "-wKuVkQ8OVtI"
   },
   "outputs": [
    {
     "name": "stdout",
     "output_type": "stream",
     "text": [
      "              precision    recall  f1-score   support\n",
      "\n",
      "           0       0.82      0.94      0.88     46859\n",
      "           1       0.65      0.35      0.45     14572\n",
      "\n",
      "    accuracy                           0.80     61431\n",
      "   macro avg       0.74      0.64      0.67     61431\n",
      "weighted avg       0.78      0.80      0.78     61431\n",
      "\n",
      "0.8470194589364499 0.7884923532900053\n"
     ]
    },
    {
     "data": {
      "image/png": "[encoded data removed]",
      "text/plain": [
       "<Figure size 432x288 with 1 Axes>"
      ]
     },
     "metadata": {
      "needs_background": "light"
     },
     "output_type": "display_data"
    }
   ],
   "source": [
    "pred_prob5 = model5.predict_proba(train_x)\n",
    "test_pred_prob5 = model5.predict_proba(test_x)\n",
    "\n",
    "from sklearn.metrics import classification_report as rep\n",
    "print(rep( test_y , test_pred5 ))\n",
    "train_auc_score5 = roc_auc_score(train_y, pred_prob5[:,1])\n",
    "test_auc_score5 = roc_auc_score(test_y, test_pred_prob5[:,1])\n",
    "print(train_auc_score5,test_auc_score5)\n",
    "metrics.plot_roc_curve(model5, test_x, test_y)\n",
    "plt.title(\"Recevier's Operating Characteristic\")\n",
    "plt.xlabel(\"False Positive Rate\")\n",
    "plt.ylabel(\"True Positive Rate\")\n",
    "plt.show()"
   ]
  },
  {
   "cell_type": "code",
   "execution_count": 176,
   "metadata": {},
   "outputs": [
    {
     "data": {
      "text/html": [
       "<div>\n",
       "<style scoped>\n",
       "    .dataframe tbody tr th:only-of-type {\n",
       "        vertical-align: middle;\n",
       "    }\n",
       "\n",
       "    .dataframe tbody tr th {\n",
       "        vertical-align: top;\n",
       "    }\n",
       "\n",
       "    .dataframe thead th {\n",
       "        text-align: right;\n",
       "    }\n",
       "</style>\n",
       "<table border=\"1\" class=\"dataframe\">\n",
       "  <thead>\n",
       "    <tr style=\"text-align: right;\">\n",
       "      <th></th>\n",
       "      <th>ID</th>\n",
       "      <th>Gender</th>\n",
       "      <th>Age</th>\n",
       "      <th>Region_Code</th>\n",
       "      <th>Occupation</th>\n",
       "      <th>Channel_Code</th>\n",
       "      <th>Vintage</th>\n",
       "      <th>Credit_Product</th>\n",
       "      <th>Avg_Account_Balance</th>\n",
       "      <th>Is_Active</th>\n",
       "    </tr>\n",
       "  </thead>\n",
       "  <tbody>\n",
       "    <tr>\n",
       "      <th>0</th>\n",
       "      <td>VBENBARO</td>\n",
       "      <td>Male</td>\n",
       "      <td>29</td>\n",
       "      <td>RG254</td>\n",
       "      <td>Other</td>\n",
       "      <td>X1</td>\n",
       "      <td>25</td>\n",
       "      <td>Yes</td>\n",
       "      <td>742366</td>\n",
       "      <td>No</td>\n",
       "    </tr>\n",
       "    <tr>\n",
       "      <th>1</th>\n",
       "      <td>CCMEWNKY</td>\n",
       "      <td>Male</td>\n",
       "      <td>43</td>\n",
       "      <td>RG268</td>\n",
       "      <td>Other</td>\n",
       "      <td>X2</td>\n",
       "      <td>49</td>\n",
       "      <td>NaN</td>\n",
       "      <td>925537</td>\n",
       "      <td>No</td>\n",
       "    </tr>\n",
       "    <tr>\n",
       "      <th>2</th>\n",
       "      <td>VK3KGA9M</td>\n",
       "      <td>Male</td>\n",
       "      <td>31</td>\n",
       "      <td>RG270</td>\n",
       "      <td>Salaried</td>\n",
       "      <td>X1</td>\n",
       "      <td>14</td>\n",
       "      <td>No</td>\n",
       "      <td>215949</td>\n",
       "      <td>No</td>\n",
       "    </tr>\n",
       "    <tr>\n",
       "      <th>3</th>\n",
       "      <td>TT8RPZVC</td>\n",
       "      <td>Male</td>\n",
       "      <td>29</td>\n",
       "      <td>RG272</td>\n",
       "      <td>Other</td>\n",
       "      <td>X1</td>\n",
       "      <td>33</td>\n",
       "      <td>No</td>\n",
       "      <td>868070</td>\n",
       "      <td>No</td>\n",
       "    </tr>\n",
       "    <tr>\n",
       "      <th>4</th>\n",
       "      <td>SHQZEYTZ</td>\n",
       "      <td>Female</td>\n",
       "      <td>29</td>\n",
       "      <td>RG270</td>\n",
       "      <td>Other</td>\n",
       "      <td>X1</td>\n",
       "      <td>19</td>\n",
       "      <td>No</td>\n",
       "      <td>657087</td>\n",
       "      <td>No</td>\n",
       "    </tr>\n",
       "  </tbody>\n",
       "</table>\n",
       "</div>"
      ],
      "text/plain": [
       "         ID  Gender  Age Region_Code Occupation Channel_Code  Vintage  \\\n",
       "0  VBENBARO    Male   29       RG254      Other           X1       25   \n",
       "1  CCMEWNKY    Male   43       RG268      Other           X2       49   \n",
       "2  VK3KGA9M    Male   31       RG270   Salaried           X1       14   \n",
       "3  TT8RPZVC    Male   29       RG272      Other           X1       33   \n",
       "4  SHQZEYTZ  Female   29       RG270      Other           X1       19   \n",
       "\n",
       "  Credit_Product  Avg_Account_Balance Is_Active  \n",
       "0            Yes               742366        No  \n",
       "1            NaN               925537        No  \n",
       "2             No               215949        No  \n",
       "3             No               868070        No  \n",
       "4             No               657087        No  "
      ]
     },
     "execution_count": 176,
     "metadata": {},
     "output_type": "execute_result"
    }
   ],
   "source": [
    "test=pd.read_csv(r\"C:\\Users\\YashnaBehera\\Desktop\\AV course\\ML\\test_mSzZ8RL.csv\")\n",
    "test.head()"
   ]
  },
  {
   "cell_type": "code",
   "execution_count": 177,
   "metadata": {},
   "outputs": [
    {
     "data": {
      "text/plain": [
       "ID                         0\n",
       "Gender                     0\n",
       "Age                        0\n",
       "Region_Code                0\n",
       "Occupation                 0\n",
       "Channel_Code               0\n",
       "Vintage                    0\n",
       "Credit_Product         12522\n",
       "Avg_Account_Balance        0\n",
       "Is_Active                  0\n",
       "dtype: int64"
      ]
     },
     "execution_count": 177,
     "metadata": {},
     "output_type": "execute_result"
    }
   ],
   "source": [
    "test.isnull().sum()"
   ]
  },
  {
   "cell_type": "code",
   "execution_count": 178,
   "metadata": {},
   "outputs": [],
   "source": [
    "#allocating correct data type to the features\n",
    "test[\"Gender\"]=test[\"Gender\"].astype(\"category\")\n",
    "test[\"Region_Code\"]=test[\"Region_Code\"].astype(\"category\")\n",
    "test[\"Occupation\"]=test[\"Occupation\"].astype(\"category\")\n",
    "test[\"Channel_Code\"]=test[\"Channel_Code\"].astype(\"category\")\n",
    "test[\"Credit_Product\"]=test[\"Credit_Product\"].astype(\"category\")\n",
    "test[\"Is_Active\"]=test[\"Is_Active\"].astype(\"category\")"
   ]
  },
  {
   "cell_type": "code",
   "execution_count": 179,
   "metadata": {},
   "outputs": [
    {
     "data": {
      "text/html": [
       "<div>\n",
       "<style scoped>\n",
       "    .dataframe tbody tr th:only-of-type {\n",
       "        vertical-align: middle;\n",
       "    }\n",
       "\n",
       "    .dataframe tbody tr th {\n",
       "        vertical-align: top;\n",
       "    }\n",
       "\n",
       "    .dataframe thead th {\n",
       "        text-align: right;\n",
       "    }\n",
       "</style>\n",
       "<table border=\"1\" class=\"dataframe\">\n",
       "  <thead>\n",
       "    <tr style=\"text-align: right;\">\n",
       "      <th></th>\n",
       "      <th>ID</th>\n",
       "      <th>Gender</th>\n",
       "      <th>Age</th>\n",
       "      <th>Region_Code</th>\n",
       "      <th>Occupation</th>\n",
       "      <th>Channel_Code</th>\n",
       "      <th>Vintage</th>\n",
       "      <th>Credit_Product</th>\n",
       "      <th>Avg_Account_Balance</th>\n",
       "      <th>Is_Active</th>\n",
       "      <th>Counts</th>\n",
       "    </tr>\n",
       "  </thead>\n",
       "  <tbody>\n",
       "    <tr>\n",
       "      <th>0</th>\n",
       "      <td>VBENBARO</td>\n",
       "      <td>Male</td>\n",
       "      <td>29</td>\n",
       "      <td>RG254</td>\n",
       "      <td>Other</td>\n",
       "      <td>X1</td>\n",
       "      <td>25</td>\n",
       "      <td>Yes</td>\n",
       "      <td>742366</td>\n",
       "      <td>No</td>\n",
       "      <td>11737</td>\n",
       "    </tr>\n",
       "    <tr>\n",
       "      <th>1</th>\n",
       "      <td>CCMEWNKY</td>\n",
       "      <td>Male</td>\n",
       "      <td>43</td>\n",
       "      <td>RG268</td>\n",
       "      <td>Other</td>\n",
       "      <td>X2</td>\n",
       "      <td>49</td>\n",
       "      <td>NaN</td>\n",
       "      <td>925537</td>\n",
       "      <td>No</td>\n",
       "      <td>15125</td>\n",
       "    </tr>\n",
       "    <tr>\n",
       "      <th>2</th>\n",
       "      <td>VK3KGA9M</td>\n",
       "      <td>Male</td>\n",
       "      <td>31</td>\n",
       "      <td>RG270</td>\n",
       "      <td>Salaried</td>\n",
       "      <td>X1</td>\n",
       "      <td>14</td>\n",
       "      <td>No</td>\n",
       "      <td>215949</td>\n",
       "      <td>No</td>\n",
       "      <td>3440</td>\n",
       "    </tr>\n",
       "    <tr>\n",
       "      <th>3</th>\n",
       "      <td>TT8RPZVC</td>\n",
       "      <td>Male</td>\n",
       "      <td>29</td>\n",
       "      <td>RG272</td>\n",
       "      <td>Other</td>\n",
       "      <td>X1</td>\n",
       "      <td>33</td>\n",
       "      <td>No</td>\n",
       "      <td>868070</td>\n",
       "      <td>No</td>\n",
       "      <td>2338</td>\n",
       "    </tr>\n",
       "    <tr>\n",
       "      <th>4</th>\n",
       "      <td>SHQZEYTZ</td>\n",
       "      <td>Female</td>\n",
       "      <td>29</td>\n",
       "      <td>RG270</td>\n",
       "      <td>Other</td>\n",
       "      <td>X1</td>\n",
       "      <td>19</td>\n",
       "      <td>No</td>\n",
       "      <td>657087</td>\n",
       "      <td>No</td>\n",
       "      <td>3440</td>\n",
       "    </tr>\n",
       "  </tbody>\n",
       "</table>\n",
       "</div>"
      ],
      "text/plain": [
       "         ID  Gender  Age Region_Code Occupation Channel_Code  Vintage  \\\n",
       "0  VBENBARO    Male   29       RG254      Other           X1       25   \n",
       "1  CCMEWNKY    Male   43       RG268      Other           X2       49   \n",
       "2  VK3KGA9M    Male   31       RG270   Salaried           X1       14   \n",
       "3  TT8RPZVC    Male   29       RG272      Other           X1       33   \n",
       "4  SHQZEYTZ  Female   29       RG270      Other           X1       19   \n",
       "\n",
       "  Credit_Product  Avg_Account_Balance Is_Active  Counts  \n",
       "0            Yes               742366        No   11737  \n",
       "1            NaN               925537        No   15125  \n",
       "2             No               215949        No    3440  \n",
       "3             No               868070        No    2338  \n",
       "4             No               657087        No    3440  "
      ]
     },
     "execution_count": 179,
     "metadata": {},
     "output_type": "execute_result"
    }
   ],
   "source": [
    "test['Counts'] = test.groupby(['Region_Code'])['Occupation'].transform('count')\n",
    "test.head()"
   ]
  },
  {
   "cell_type": "code",
   "execution_count": 180,
   "metadata": {},
   "outputs": [
    {
     "data": {
      "text/plain": [
       "RG268    15125\n",
       "RG283    12881\n",
       "RG254    11737\n",
       "RG284     8173\n",
       "RG277     5596\n",
       "RG280     5529\n",
       "RG270     3440\n",
       "RG269     3288\n",
       "RG261     3286\n",
       "RG251     2678\n",
       "RG257     2588\n",
       "RG272     2338\n",
       "RG282     2337\n",
       "RG274     2208\n",
       "RG281     2144\n",
       "RG252     1811\n",
       "RG273     1803\n",
       "RG263     1615\n",
       "RG279     1600\n",
       "RG275     1383\n",
       "RG260     1300\n",
       "RG264     1241\n",
       "RG256     1194\n",
       "RG276     1185\n",
       "RG259     1102\n",
       "RG250     1048\n",
       "RG255      891\n",
       "RG278      824\n",
       "RG258      812\n",
       "RG253      810\n",
       "RG262      800\n",
       "RG265      668\n",
       "RG271      654\n",
       "RG266      631\n",
       "RG267      592\n",
       "Name: Region_Code, dtype: int64"
      ]
     },
     "execution_count": 180,
     "metadata": {},
     "output_type": "execute_result"
    }
   ],
   "source": [
    "test.Region_Code.value_counts()"
   ]
  },
  {
   "cell_type": "code",
   "execution_count": 181,
   "metadata": {},
   "outputs": [
    {
     "data": {
      "text/html": [
       "<div>\n",
       "<style scoped>\n",
       "    .dataframe tbody tr th:only-of-type {\n",
       "        vertical-align: middle;\n",
       "    }\n",
       "\n",
       "    .dataframe tbody tr th {\n",
       "        vertical-align: top;\n",
       "    }\n",
       "\n",
       "    .dataframe thead th {\n",
       "        text-align: right;\n",
       "    }\n",
       "</style>\n",
       "<table border=\"1\" class=\"dataframe\">\n",
       "  <thead>\n",
       "    <tr style=\"text-align: right;\">\n",
       "      <th></th>\n",
       "      <th>ID</th>\n",
       "      <th>Gender</th>\n",
       "      <th>Age</th>\n",
       "      <th>Region_Code</th>\n",
       "      <th>Occupation</th>\n",
       "      <th>Channel_Code</th>\n",
       "      <th>Vintage</th>\n",
       "      <th>Credit_Product</th>\n",
       "      <th>Avg_Account_Balance</th>\n",
       "      <th>Is_Active</th>\n",
       "      <th>Counts</th>\n",
       "      <th>region_type</th>\n",
       "    </tr>\n",
       "  </thead>\n",
       "  <tbody>\n",
       "    <tr>\n",
       "      <th>0</th>\n",
       "      <td>VBENBARO</td>\n",
       "      <td>Male</td>\n",
       "      <td>29</td>\n",
       "      <td>RG254</td>\n",
       "      <td>Other</td>\n",
       "      <td>X1</td>\n",
       "      <td>25</td>\n",
       "      <td>Yes</td>\n",
       "      <td>742366</td>\n",
       "      <td>No</td>\n",
       "      <td>11737</td>\n",
       "      <td>4</td>\n",
       "    </tr>\n",
       "    <tr>\n",
       "      <th>1</th>\n",
       "      <td>CCMEWNKY</td>\n",
       "      <td>Male</td>\n",
       "      <td>43</td>\n",
       "      <td>RG268</td>\n",
       "      <td>Other</td>\n",
       "      <td>X2</td>\n",
       "      <td>49</td>\n",
       "      <td>NaN</td>\n",
       "      <td>925537</td>\n",
       "      <td>No</td>\n",
       "      <td>15125</td>\n",
       "      <td>4</td>\n",
       "    </tr>\n",
       "    <tr>\n",
       "      <th>2</th>\n",
       "      <td>VK3KGA9M</td>\n",
       "      <td>Male</td>\n",
       "      <td>31</td>\n",
       "      <td>RG270</td>\n",
       "      <td>Salaried</td>\n",
       "      <td>X1</td>\n",
       "      <td>14</td>\n",
       "      <td>No</td>\n",
       "      <td>215949</td>\n",
       "      <td>No</td>\n",
       "      <td>3440</td>\n",
       "      <td>3</td>\n",
       "    </tr>\n",
       "    <tr>\n",
       "      <th>3</th>\n",
       "      <td>TT8RPZVC</td>\n",
       "      <td>Male</td>\n",
       "      <td>29</td>\n",
       "      <td>RG272</td>\n",
       "      <td>Other</td>\n",
       "      <td>X1</td>\n",
       "      <td>33</td>\n",
       "      <td>No</td>\n",
       "      <td>868070</td>\n",
       "      <td>No</td>\n",
       "      <td>2338</td>\n",
       "      <td>3</td>\n",
       "    </tr>\n",
       "    <tr>\n",
       "      <th>4</th>\n",
       "      <td>SHQZEYTZ</td>\n",
       "      <td>Female</td>\n",
       "      <td>29</td>\n",
       "      <td>RG270</td>\n",
       "      <td>Other</td>\n",
       "      <td>X1</td>\n",
       "      <td>19</td>\n",
       "      <td>No</td>\n",
       "      <td>657087</td>\n",
       "      <td>No</td>\n",
       "      <td>3440</td>\n",
       "      <td>3</td>\n",
       "    </tr>\n",
       "  </tbody>\n",
       "</table>\n",
       "</div>"
      ],
      "text/plain": [
       "         ID  Gender  Age Region_Code Occupation Channel_Code  Vintage  \\\n",
       "0  VBENBARO    Male   29       RG254      Other           X1       25   \n",
       "1  CCMEWNKY    Male   43       RG268      Other           X2       49   \n",
       "2  VK3KGA9M    Male   31       RG270   Salaried           X1       14   \n",
       "3  TT8RPZVC    Male   29       RG272      Other           X1       33   \n",
       "4  SHQZEYTZ  Female   29       RG270      Other           X1       19   \n",
       "\n",
       "  Credit_Product  Avg_Account_Balance Is_Active  Counts region_type  \n",
       "0            Yes               742366        No   11737           4  \n",
       "1            NaN               925537        No   15125           4  \n",
       "2             No               215949        No    3440           3  \n",
       "3             No               868070        No    2338           3  \n",
       "4             No               657087        No    3440           3  "
      ]
     },
     "execution_count": 181,
     "metadata": {},
     "output_type": "execute_result"
    }
   ],
   "source": [
    "bins = [500, 1000, 2000, 5000, 16000]\n",
    "labels = ['1','2', '3', '4']\n",
    "test['region_type'] = pd.cut(test.Counts, bins, labels = labels,include_lowest = True)\n",
    "test.head()"
   ]
  },
  {
   "cell_type": "code",
   "execution_count": 182,
   "metadata": {},
   "outputs": [],
   "source": [
    "credit_product_mode = test.pivot_table(values='Credit_Product', columns='Vintage', aggfunc=(lambda x: x.mode()[0]))\n",
    "#channel_mode\n",
    "miss_bool = test['Credit_Product'].isnull()\n",
    "test.loc[miss_bool, 'Credit_Product'] = test.loc[miss_bool, 'Vintage'].apply(lambda x:credit_product_mode[x])"
   ]
  },
  {
   "cell_type": "code",
   "execution_count": 183,
   "metadata": {},
   "outputs": [
    {
     "data": {
      "text/plain": [
       "2048058.5"
      ]
     },
     "execution_count": 183,
     "metadata": {},
     "output_type": "execute_result"
    }
   ],
   "source": [
    "#calculating max limit for removing outliers\n",
    "quant25 = test[\"Avg_Account_Balance\"].quantile(0.25)\n",
    "quant75 = test[\"Avg_Account_Balance\"].quantile(0.75)\n",
    "IQR = quant75 - quant25\n",
    "med = test[\"Avg_Account_Balance\"].median()\n",
    "whis_high = med+(1.5*IQR)\n",
    "whis_high"
   ]
  },
  {
   "cell_type": "code",
   "execution_count": 184,
   "metadata": {},
   "outputs": [
    {
     "data": {
      "text/html": [
       "<div>\n",
       "<style scoped>\n",
       "    .dataframe tbody tr th:only-of-type {\n",
       "        vertical-align: middle;\n",
       "    }\n",
       "\n",
       "    .dataframe tbody tr th {\n",
       "        vertical-align: top;\n",
       "    }\n",
       "\n",
       "    .dataframe thead th {\n",
       "        text-align: right;\n",
       "    }\n",
       "</style>\n",
       "<table border=\"1\" class=\"dataframe\">\n",
       "  <thead>\n",
       "    <tr style=\"text-align: right;\">\n",
       "      <th></th>\n",
       "      <th>ID</th>\n",
       "      <th>Gender</th>\n",
       "      <th>Age</th>\n",
       "      <th>Region_Code</th>\n",
       "      <th>Occupation</th>\n",
       "      <th>Channel_Code</th>\n",
       "      <th>Vintage</th>\n",
       "      <th>Credit_Product</th>\n",
       "      <th>Avg_Account_Balance</th>\n",
       "      <th>Is_Active</th>\n",
       "      <th>Counts</th>\n",
       "      <th>region_type</th>\n",
       "    </tr>\n",
       "  </thead>\n",
       "  <tbody>\n",
       "    <tr>\n",
       "      <th>0</th>\n",
       "      <td>VBENBARO</td>\n",
       "      <td>Male</td>\n",
       "      <td>29</td>\n",
       "      <td>RG254</td>\n",
       "      <td>Other</td>\n",
       "      <td>X1</td>\n",
       "      <td>25</td>\n",
       "      <td>Yes</td>\n",
       "      <td>742366</td>\n",
       "      <td>No</td>\n",
       "      <td>11737</td>\n",
       "      <td>4</td>\n",
       "    </tr>\n",
       "    <tr>\n",
       "      <th>1</th>\n",
       "      <td>CCMEWNKY</td>\n",
       "      <td>Male</td>\n",
       "      <td>43</td>\n",
       "      <td>RG268</td>\n",
       "      <td>Other</td>\n",
       "      <td>X2</td>\n",
       "      <td>49</td>\n",
       "      <td>No</td>\n",
       "      <td>925537</td>\n",
       "      <td>No</td>\n",
       "      <td>15125</td>\n",
       "      <td>4</td>\n",
       "    </tr>\n",
       "    <tr>\n",
       "      <th>2</th>\n",
       "      <td>VK3KGA9M</td>\n",
       "      <td>Male</td>\n",
       "      <td>31</td>\n",
       "      <td>RG270</td>\n",
       "      <td>Salaried</td>\n",
       "      <td>X1</td>\n",
       "      <td>14</td>\n",
       "      <td>No</td>\n",
       "      <td>215949</td>\n",
       "      <td>No</td>\n",
       "      <td>3440</td>\n",
       "      <td>3</td>\n",
       "    </tr>\n",
       "    <tr>\n",
       "      <th>3</th>\n",
       "      <td>TT8RPZVC</td>\n",
       "      <td>Male</td>\n",
       "      <td>29</td>\n",
       "      <td>RG272</td>\n",
       "      <td>Other</td>\n",
       "      <td>X1</td>\n",
       "      <td>33</td>\n",
       "      <td>No</td>\n",
       "      <td>868070</td>\n",
       "      <td>No</td>\n",
       "      <td>2338</td>\n",
       "      <td>3</td>\n",
       "    </tr>\n",
       "    <tr>\n",
       "      <th>4</th>\n",
       "      <td>SHQZEYTZ</td>\n",
       "      <td>Female</td>\n",
       "      <td>29</td>\n",
       "      <td>RG270</td>\n",
       "      <td>Other</td>\n",
       "      <td>X1</td>\n",
       "      <td>19</td>\n",
       "      <td>No</td>\n",
       "      <td>657087</td>\n",
       "      <td>No</td>\n",
       "      <td>3440</td>\n",
       "      <td>3</td>\n",
       "    </tr>\n",
       "  </tbody>\n",
       "</table>\n",
       "</div>"
      ],
      "text/plain": [
       "         ID  Gender  Age Region_Code Occupation Channel_Code  Vintage  \\\n",
       "0  VBENBARO    Male   29       RG254      Other           X1       25   \n",
       "1  CCMEWNKY    Male   43       RG268      Other           X2       49   \n",
       "2  VK3KGA9M    Male   31       RG270   Salaried           X1       14   \n",
       "3  TT8RPZVC    Male   29       RG272      Other           X1       33   \n",
       "4  SHQZEYTZ  Female   29       RG270      Other           X1       19   \n",
       "\n",
       "  Credit_Product  Avg_Account_Balance Is_Active  Counts region_type  \n",
       "0            Yes               742366        No   11737           4  \n",
       "1             No               925537        No   15125           4  \n",
       "2             No               215949        No    3440           3  \n",
       "3             No               868070        No    2338           3  \n",
       "4             No               657087        No    3440           3  "
      ]
     },
     "execution_count": 184,
     "metadata": {},
     "output_type": "execute_result"
    }
   ],
   "source": [
    "#separating outliers from the dataset\n",
    "out_rem_acc_test = test[test['Avg_Account_Balance'] < 2048058.5]\n",
    "out_rem_acc_test.head()"
   ]
  },
  {
   "cell_type": "code",
   "execution_count": 185,
   "metadata": {},
   "outputs": [
    {
     "data": {
      "text/plain": [
       "0"
      ]
     },
     "execution_count": 185,
     "metadata": {},
     "output_type": "execute_result"
    }
   ],
   "source": [
    "test['Avg_Account_Balance'].isnull().sum()"
   ]
  },
  {
   "cell_type": "code",
   "execution_count": 186,
   "metadata": {},
   "outputs": [
    {
     "data": {
      "text/plain": [
       "10643"
      ]
     },
     "execution_count": 186,
     "metadata": {},
     "output_type": "execute_result"
    }
   ],
   "source": [
    "test['Avg_Account_Balance'] = out_rem_acc_test['Avg_Account_Balance']\n",
    "test['Avg_Account_Balance'].isnull().sum()"
   ]
  },
  {
   "cell_type": "code",
   "execution_count": 187,
   "metadata": {},
   "outputs": [
    {
     "data": {
      "text/html": [
       "<div>\n",
       "<style scoped>\n",
       "    .dataframe tbody tr th:only-of-type {\n",
       "        vertical-align: middle;\n",
       "    }\n",
       "\n",
       "    .dataframe tbody tr th {\n",
       "        vertical-align: top;\n",
       "    }\n",
       "\n",
       "    .dataframe thead th {\n",
       "        text-align: right;\n",
       "    }\n",
       "</style>\n",
       "<table border=\"1\" class=\"dataframe\">\n",
       "  <thead>\n",
       "    <tr style=\"text-align: right;\">\n",
       "      <th>Occupation</th>\n",
       "      <th>Entrepreneur</th>\n",
       "      <th>Other</th>\n",
       "      <th>Salaried</th>\n",
       "      <th>Self_Employed</th>\n",
       "    </tr>\n",
       "  </thead>\n",
       "  <tbody>\n",
       "    <tr>\n",
       "      <th>Avg_Account_Balance</th>\n",
       "      <td>1.114989e+06</td>\n",
       "      <td>951330.847868</td>\n",
       "      <td>851995.838705</td>\n",
       "      <td>925456.815811</td>\n",
       "    </tr>\n",
       "  </tbody>\n",
       "</table>\n",
       "</div>"
      ],
      "text/plain": [
       "Occupation           Entrepreneur          Other       Salaried  Self_Employed\n",
       "Avg_Account_Balance  1.114989e+06  951330.847868  851995.838705  925456.815811"
      ]
     },
     "execution_count": 187,
     "metadata": {},
     "output_type": "execute_result"
    }
   ],
   "source": [
    "avg_acc_balance_mean = test.pivot_table(values='Avg_Account_Balance', columns='Occupation', aggfunc='mean')\n",
    "avg_acc_balance_mean"
   ]
  },
  {
   "cell_type": "code",
   "execution_count": 188,
   "metadata": {},
   "outputs": [
    {
     "ename": "TypeError",
     "evalue": "'Series' objects are mutable, thus they cannot be hashed",
     "output_type": "error",
     "traceback": [
      "\u001b[1;31m---------------------------------------------------------------------------\u001b[0m",
      "\u001b[1;31mTypeError\u001b[0m                                 Traceback (most recent call last)",
      "\u001b[1;32mpandas\\_libs\\hashtable_class_helper.pxi\u001b[0m in \u001b[0;36mpandas._libs.hashtable.PyObjectHashTable.map_locations\u001b[1;34m()\u001b[0m\n",
      "\u001b[1;32m~\\anaconda3\\lib\\site-packages\\pandas\\core\\generic.py\u001b[0m in \u001b[0;36m__hash__\u001b[1;34m(self)\u001b[0m\n\u001b[0;32m   1797\u001b[0m     \u001b[1;32mdef\u001b[0m \u001b[0m__hash__\u001b[0m\u001b[1;33m(\u001b[0m\u001b[0mself\u001b[0m\u001b[1;33m)\u001b[0m\u001b[1;33m:\u001b[0m\u001b[1;33m\u001b[0m\u001b[1;33m\u001b[0m\u001b[0m\n\u001b[0;32m   1798\u001b[0m         raise TypeError(\n\u001b[1;32m-> 1799\u001b[1;33m             \u001b[1;34mf\"{repr(type(self).__name__)} objects are mutable, \"\u001b[0m\u001b[1;33m\u001b[0m\u001b[1;33m\u001b[0m\u001b[0m\n\u001b[0m\u001b[0;32m   1800\u001b[0m             \u001b[1;34mf\"thus they cannot be hashed\"\u001b[0m\u001b[1;33m\u001b[0m\u001b[1;33m\u001b[0m\u001b[0m\n\u001b[0;32m   1801\u001b[0m         )\n",
      "\u001b[1;31mTypeError\u001b[0m: 'Series' objects are mutable, thus they cannot be hashed"
     ]
    },
    {
     "name": "stderr",
     "output_type": "stream",
     "text": [
      "Exception ignored in: 'pandas._libs.index.IndexEngine._call_map_locations'\n",
      "Traceback (most recent call last):\n",
      "  File \"pandas\\_libs\\hashtable_class_helper.pxi\", line 1652, in pandas._libs.hashtable.PyObjectHashTable.map_locations\n",
      "  File \"C:\\Users\\YashnaBehera\\anaconda3\\lib\\site-packages\\pandas\\core\\generic.py\", line 1799, in __hash__\n",
      "    f\"{repr(type(self).__name__)} objects are mutable, \"\n",
      "TypeError: 'Series' objects are mutable, thus they cannot be hashed\n"
     ]
    }
   ],
   "source": [
    "#replacing average acount balance null values with occupation mean\n",
    "loc1 = test['Avg_Account_Balance'].isnull()\n",
    "test.loc[loc1, 'Avg_Account_Balance'] = test.loc[loc1, 'Occupation'].apply(lambda x: avg_acc_balance_mean[x])"
   ]
  },
  {
   "cell_type": "code",
   "execution_count": 189,
   "metadata": {},
   "outputs": [],
   "source": [
    "#labelencoding categorical data\n",
    "from sklearn.preprocessing import LabelEncoder\n",
    "test_encoded = test.copy()\n",
    "test_encoded.loc[:,['Gender','Occupation','Channel_Code','Credit_Product','Is_Active']] = train_encoded.loc[:,['Gender',\n",
    "                                                            'Occupation','Channel_Code','Credit_Product','Is_Active']].apply(LabelEncoder().fit_transform) "
   ]
  },
  {
   "cell_type": "code",
   "execution_count": 190,
   "metadata": {},
   "outputs": [
    {
     "data": {
      "text/html": [
       "<div>\n",
       "<style scoped>\n",
       "    .dataframe tbody tr th:only-of-type {\n",
       "        vertical-align: middle;\n",
       "    }\n",
       "\n",
       "    .dataframe tbody tr th {\n",
       "        vertical-align: top;\n",
       "    }\n",
       "\n",
       "    .dataframe thead th {\n",
       "        text-align: right;\n",
       "    }\n",
       "</style>\n",
       "<table border=\"1\" class=\"dataframe\">\n",
       "  <thead>\n",
       "    <tr style=\"text-align: right;\">\n",
       "      <th></th>\n",
       "      <th>ID</th>\n",
       "      <th>Gender</th>\n",
       "      <th>Age</th>\n",
       "      <th>Region_Code</th>\n",
       "      <th>Occupation</th>\n",
       "      <th>Channel_Code</th>\n",
       "      <th>Vintage</th>\n",
       "      <th>Credit_Product</th>\n",
       "      <th>Avg_Account_Balance</th>\n",
       "      <th>Is_Active</th>\n",
       "      <th>Counts</th>\n",
       "      <th>region_type</th>\n",
       "    </tr>\n",
       "  </thead>\n",
       "  <tbody>\n",
       "    <tr>\n",
       "      <th>0</th>\n",
       "      <td>VBENBARO</td>\n",
       "      <td>0</td>\n",
       "      <td>29</td>\n",
       "      <td>RG254</td>\n",
       "      <td>1</td>\n",
       "      <td>2</td>\n",
       "      <td>25</td>\n",
       "      <td>0</td>\n",
       "      <td>742366.0</td>\n",
       "      <td>0</td>\n",
       "      <td>11737</td>\n",
       "      <td>4</td>\n",
       "    </tr>\n",
       "    <tr>\n",
       "      <th>1</th>\n",
       "      <td>CCMEWNKY</td>\n",
       "      <td>0</td>\n",
       "      <td>43</td>\n",
       "      <td>RG268</td>\n",
       "      <td>2</td>\n",
       "      <td>0</td>\n",
       "      <td>49</td>\n",
       "      <td>0</td>\n",
       "      <td>925537.0</td>\n",
       "      <td>0</td>\n",
       "      <td>15125</td>\n",
       "      <td>4</td>\n",
       "    </tr>\n",
       "    <tr>\n",
       "      <th>2</th>\n",
       "      <td>VK3KGA9M</td>\n",
       "      <td>0</td>\n",
       "      <td>31</td>\n",
       "      <td>RG270</td>\n",
       "      <td>3</td>\n",
       "      <td>2</td>\n",
       "      <td>14</td>\n",
       "      <td>0</td>\n",
       "      <td>215949.0</td>\n",
       "      <td>1</td>\n",
       "      <td>3440</td>\n",
       "      <td>3</td>\n",
       "    </tr>\n",
       "    <tr>\n",
       "      <th>3</th>\n",
       "      <td>TT8RPZVC</td>\n",
       "      <td>1</td>\n",
       "      <td>29</td>\n",
       "      <td>RG272</td>\n",
       "      <td>2</td>\n",
       "      <td>0</td>\n",
       "      <td>33</td>\n",
       "      <td>0</td>\n",
       "      <td>868070.0</td>\n",
       "      <td>0</td>\n",
       "      <td>2338</td>\n",
       "      <td>3</td>\n",
       "    </tr>\n",
       "    <tr>\n",
       "      <th>4</th>\n",
       "      <td>SHQZEYTZ</td>\n",
       "      <td>0</td>\n",
       "      <td>29</td>\n",
       "      <td>RG270</td>\n",
       "      <td>2</td>\n",
       "      <td>0</td>\n",
       "      <td>19</td>\n",
       "      <td>0</td>\n",
       "      <td>657087.0</td>\n",
       "      <td>0</td>\n",
       "      <td>3440</td>\n",
       "      <td>3</td>\n",
       "    </tr>\n",
       "  </tbody>\n",
       "</table>\n",
       "</div>"
      ],
      "text/plain": [
       "         ID  Gender  Age Region_Code  Occupation  Channel_Code  Vintage  \\\n",
       "0  VBENBARO       0   29       RG254           1             2       25   \n",
       "1  CCMEWNKY       0   43       RG268           2             0       49   \n",
       "2  VK3KGA9M       0   31       RG270           3             2       14   \n",
       "3  TT8RPZVC       1   29       RG272           2             0       33   \n",
       "4  SHQZEYTZ       0   29       RG270           2             0       19   \n",
       "\n",
       "   Credit_Product  Avg_Account_Balance  Is_Active  Counts region_type  \n",
       "0               0             742366.0          0   11737           4  \n",
       "1               0             925537.0          0   15125           4  \n",
       "2               0             215949.0          1    3440           3  \n",
       "3               0             868070.0          0    2338           3  \n",
       "4               0             657087.0          0    3440           3  "
      ]
     },
     "execution_count": 190,
     "metadata": {},
     "output_type": "execute_result"
    }
   ],
   "source": [
    "test_encoded.head()"
   ]
  },
  {
   "cell_type": "code",
   "execution_count": 191,
   "metadata": {},
   "outputs": [
    {
     "data": {
      "text/plain": [
       "ID                     0\n",
       "Gender                 0\n",
       "Age                    0\n",
       "Region_Code            0\n",
       "Occupation             0\n",
       "Channel_Code           0\n",
       "Vintage                0\n",
       "Credit_Product         0\n",
       "Avg_Account_Balance    0\n",
       "Is_Active              0\n",
       "Counts                 0\n",
       "region_type            0\n",
       "dtype: int64"
      ]
     },
     "execution_count": 191,
     "metadata": {},
     "output_type": "execute_result"
    }
   ],
   "source": [
    "test_encoded.isnull().sum()"
   ]
  },
  {
   "cell_type": "code",
   "execution_count": 192,
   "metadata": {},
   "outputs": [],
   "source": [
    "test_1=test_encoded.drop(['Region_Code','Counts','ID'],axis=1)"
   ]
  },
  {
   "cell_type": "markdown",
   "metadata": {},
   "source": [
    "### Normalising using *min_max_scaler*"
   ]
  },
  {
   "cell_type": "code",
   "execution_count": 193,
   "metadata": {},
   "outputs": [],
   "source": [
    "from sklearn.preprocessing import MinMaxScaler\n",
    "scaler = MinMaxScaler()\n",
    "test_2=scaler.fit_transform(test_1)"
   ]
  },
  {
   "cell_type": "code",
   "execution_count": 194,
   "metadata": {},
   "outputs": [],
   "source": [
    "test_pred=model4.predict(test_2)"
   ]
  },
  {
   "cell_type": "code",
   "execution_count": 195,
   "metadata": {},
   "outputs": [],
   "source": [
    "test['Is_Lead']=test_pred"
   ]
  },
  {
   "cell_type": "code",
   "execution_count": 197,
   "metadata": {},
   "outputs": [
    {
     "data": {
      "text/html": [
       "<div>\n",
       "<style scoped>\n",
       "    .dataframe tbody tr th:only-of-type {\n",
       "        vertical-align: middle;\n",
       "    }\n",
       "\n",
       "    .dataframe tbody tr th {\n",
       "        vertical-align: top;\n",
       "    }\n",
       "\n",
       "    .dataframe thead th {\n",
       "        text-align: right;\n",
       "    }\n",
       "</style>\n",
       "<table border=\"1\" class=\"dataframe\">\n",
       "  <thead>\n",
       "    <tr style=\"text-align: right;\">\n",
       "      <th></th>\n",
       "      <th>ID</th>\n",
       "      <th>Gender</th>\n",
       "      <th>Age</th>\n",
       "      <th>Region_Code</th>\n",
       "      <th>Occupation</th>\n",
       "      <th>Channel_Code</th>\n",
       "      <th>Vintage</th>\n",
       "      <th>Credit_Product</th>\n",
       "      <th>Avg_Account_Balance</th>\n",
       "      <th>Is_Active</th>\n",
       "      <th>Counts</th>\n",
       "      <th>region_type</th>\n",
       "      <th>Is_Lead</th>\n",
       "    </tr>\n",
       "  </thead>\n",
       "  <tbody>\n",
       "    <tr>\n",
       "      <th>0</th>\n",
       "      <td>VBENBARO</td>\n",
       "      <td>Male</td>\n",
       "      <td>29</td>\n",
       "      <td>RG254</td>\n",
       "      <td>Other</td>\n",
       "      <td>X1</td>\n",
       "      <td>25</td>\n",
       "      <td>Yes</td>\n",
       "      <td>7.423660e+05</td>\n",
       "      <td>No</td>\n",
       "      <td>11737</td>\n",
       "      <td>4</td>\n",
       "      <td>0</td>\n",
       "    </tr>\n",
       "    <tr>\n",
       "      <th>1</th>\n",
       "      <td>CCMEWNKY</td>\n",
       "      <td>Male</td>\n",
       "      <td>43</td>\n",
       "      <td>RG268</td>\n",
       "      <td>Other</td>\n",
       "      <td>X2</td>\n",
       "      <td>49</td>\n",
       "      <td>No</td>\n",
       "      <td>9.255370e+05</td>\n",
       "      <td>No</td>\n",
       "      <td>15125</td>\n",
       "      <td>4</td>\n",
       "      <td>1</td>\n",
       "    </tr>\n",
       "    <tr>\n",
       "      <th>2</th>\n",
       "      <td>VK3KGA9M</td>\n",
       "      <td>Male</td>\n",
       "      <td>31</td>\n",
       "      <td>RG270</td>\n",
       "      <td>Salaried</td>\n",
       "      <td>X1</td>\n",
       "      <td>14</td>\n",
       "      <td>No</td>\n",
       "      <td>2.159490e+05</td>\n",
       "      <td>No</td>\n",
       "      <td>3440</td>\n",
       "      <td>3</td>\n",
       "      <td>0</td>\n",
       "    </tr>\n",
       "    <tr>\n",
       "      <th>3</th>\n",
       "      <td>TT8RPZVC</td>\n",
       "      <td>Male</td>\n",
       "      <td>29</td>\n",
       "      <td>RG272</td>\n",
       "      <td>Other</td>\n",
       "      <td>X1</td>\n",
       "      <td>33</td>\n",
       "      <td>No</td>\n",
       "      <td>8.680700e+05</td>\n",
       "      <td>No</td>\n",
       "      <td>2338</td>\n",
       "      <td>3</td>\n",
       "      <td>0</td>\n",
       "    </tr>\n",
       "    <tr>\n",
       "      <th>4</th>\n",
       "      <td>SHQZEYTZ</td>\n",
       "      <td>Female</td>\n",
       "      <td>29</td>\n",
       "      <td>RG270</td>\n",
       "      <td>Other</td>\n",
       "      <td>X1</td>\n",
       "      <td>19</td>\n",
       "      <td>No</td>\n",
       "      <td>6.570870e+05</td>\n",
       "      <td>No</td>\n",
       "      <td>3440</td>\n",
       "      <td>3</td>\n",
       "      <td>0</td>\n",
       "    </tr>\n",
       "    <tr>\n",
       "      <th>5</th>\n",
       "      <td>MZZAQMPT</td>\n",
       "      <td>Male</td>\n",
       "      <td>60</td>\n",
       "      <td>RG268</td>\n",
       "      <td>Self_Employed</td>\n",
       "      <td>X3</td>\n",
       "      <td>110</td>\n",
       "      <td>No</td>\n",
       "      <td>9.254568e+05</td>\n",
       "      <td>No</td>\n",
       "      <td>15125</td>\n",
       "      <td>4</td>\n",
       "      <td>1</td>\n",
       "    </tr>\n",
       "    <tr>\n",
       "      <th>6</th>\n",
       "      <td>Y88TW36I</td>\n",
       "      <td>Female</td>\n",
       "      <td>69</td>\n",
       "      <td>RG253</td>\n",
       "      <td>Other</td>\n",
       "      <td>X2</td>\n",
       "      <td>67</td>\n",
       "      <td>No</td>\n",
       "      <td>1.032764e+06</td>\n",
       "      <td>No</td>\n",
       "      <td>810</td>\n",
       "      <td>1</td>\n",
       "      <td>0</td>\n",
       "    </tr>\n",
       "    <tr>\n",
       "      <th>7</th>\n",
       "      <td>3UGOAQNU</td>\n",
       "      <td>Female</td>\n",
       "      <td>30</td>\n",
       "      <td>RG257</td>\n",
       "      <td>Salaried</td>\n",
       "      <td>X1</td>\n",
       "      <td>33</td>\n",
       "      <td>No</td>\n",
       "      <td>8.370090e+05</td>\n",
       "      <td>No</td>\n",
       "      <td>2588</td>\n",
       "      <td>3</td>\n",
       "      <td>0</td>\n",
       "    </tr>\n",
       "    <tr>\n",
       "      <th>8</th>\n",
       "      <td>VVUKMUJT</td>\n",
       "      <td>Male</td>\n",
       "      <td>43</td>\n",
       "      <td>RG284</td>\n",
       "      <td>Salaried</td>\n",
       "      <td>X3</td>\n",
       "      <td>81</td>\n",
       "      <td>No</td>\n",
       "      <td>1.001232e+06</td>\n",
       "      <td>Yes</td>\n",
       "      <td>8173</td>\n",
       "      <td>4</td>\n",
       "      <td>1</td>\n",
       "    </tr>\n",
       "    <tr>\n",
       "      <th>9</th>\n",
       "      <td>9R363ZXS</td>\n",
       "      <td>Female</td>\n",
       "      <td>54</td>\n",
       "      <td>RG283</td>\n",
       "      <td>Self_Employed</td>\n",
       "      <td>X2</td>\n",
       "      <td>37</td>\n",
       "      <td>Yes</td>\n",
       "      <td>1.667851e+06</td>\n",
       "      <td>No</td>\n",
       "      <td>12881</td>\n",
       "      <td>4</td>\n",
       "      <td>0</td>\n",
       "    </tr>\n",
       "  </tbody>\n",
       "</table>\n",
       "</div>"
      ],
      "text/plain": [
       "         ID  Gender  Age Region_Code     Occupation Channel_Code  Vintage  \\\n",
       "0  VBENBARO    Male   29       RG254          Other           X1       25   \n",
       "1  CCMEWNKY    Male   43       RG268          Other           X2       49   \n",
       "2  VK3KGA9M    Male   31       RG270       Salaried           X1       14   \n",
       "3  TT8RPZVC    Male   29       RG272          Other           X1       33   \n",
       "4  SHQZEYTZ  Female   29       RG270          Other           X1       19   \n",
       "5  MZZAQMPT    Male   60       RG268  Self_Employed           X3      110   \n",
       "6  Y88TW36I  Female   69       RG253          Other           X2       67   \n",
       "7  3UGOAQNU  Female   30       RG257       Salaried           X1       33   \n",
       "8  VVUKMUJT    Male   43       RG284       Salaried           X3       81   \n",
       "9  9R363ZXS  Female   54       RG283  Self_Employed           X2       37   \n",
       "\n",
       "  Credit_Product  Avg_Account_Balance Is_Active  Counts region_type  Is_Lead  \n",
       "0            Yes         7.423660e+05        No   11737           4        0  \n",
       "1             No         9.255370e+05        No   15125           4        1  \n",
       "2             No         2.159490e+05        No    3440           3        0  \n",
       "3             No         8.680700e+05        No    2338           3        0  \n",
       "4             No         6.570870e+05        No    3440           3        0  \n",
       "5             No         9.254568e+05        No   15125           4        1  \n",
       "6             No         1.032764e+06        No     810           1        0  \n",
       "7             No         8.370090e+05        No    2588           3        0  \n",
       "8             No         1.001232e+06       Yes    8173           4        1  \n",
       "9            Yes         1.667851e+06        No   12881           4        0  "
      ]
     },
     "execution_count": 197,
     "metadata": {},
     "output_type": "execute_result"
    }
   ],
   "source": [
    "test.head(10)"
   ]
  },
  {
   "cell_type": "code",
   "execution_count": 198,
   "metadata": {},
   "outputs": [
    {
     "data": {
      "text/html": [
       "<div>\n",
       "<style scoped>\n",
       "    .dataframe tbody tr th:only-of-type {\n",
       "        vertical-align: middle;\n",
       "    }\n",
       "\n",
       "    .dataframe tbody tr th {\n",
       "        vertical-align: top;\n",
       "    }\n",
       "\n",
       "    .dataframe thead th {\n",
       "        text-align: right;\n",
       "    }\n",
       "</style>\n",
       "<table border=\"1\" class=\"dataframe\">\n",
       "  <thead>\n",
       "    <tr style=\"text-align: right;\">\n",
       "      <th></th>\n",
       "      <th>ID</th>\n",
       "      <th>Gender</th>\n",
       "      <th>Age</th>\n",
       "      <th>Region_Code</th>\n",
       "      <th>Occupation</th>\n",
       "      <th>Channel_Code</th>\n",
       "      <th>Vintage</th>\n",
       "      <th>Credit_Product</th>\n",
       "      <th>Avg_Account_Balance</th>\n",
       "      <th>Is_Active</th>\n",
       "      <th>Counts</th>\n",
       "      <th>region_type</th>\n",
       "      <th>Is_Lead</th>\n",
       "    </tr>\n",
       "  </thead>\n",
       "  <tbody>\n",
       "    <tr>\n",
       "      <th>41</th>\n",
       "      <td>ICTFGWQR</td>\n",
       "      <td>Female</td>\n",
       "      <td>48</td>\n",
       "      <td>RG268</td>\n",
       "      <td>Entrepreneur</td>\n",
       "      <td>X3</td>\n",
       "      <td>117</td>\n",
       "      <td>Yes</td>\n",
       "      <td>1.114989e+06</td>\n",
       "      <td>No</td>\n",
       "      <td>15125</td>\n",
       "      <td>4</td>\n",
       "      <td>1</td>\n",
       "    </tr>\n",
       "    <tr>\n",
       "      <th>71</th>\n",
       "      <td>7IP5SSRR</td>\n",
       "      <td>Female</td>\n",
       "      <td>51</td>\n",
       "      <td>RG283</td>\n",
       "      <td>Entrepreneur</td>\n",
       "      <td>X3</td>\n",
       "      <td>98</td>\n",
       "      <td>Yes</td>\n",
       "      <td>9.230270e+05</td>\n",
       "      <td>Yes</td>\n",
       "      <td>12881</td>\n",
       "      <td>4</td>\n",
       "      <td>1</td>\n",
       "    </tr>\n",
       "    <tr>\n",
       "      <th>81</th>\n",
       "      <td>JTYNEKRQ</td>\n",
       "      <td>Male</td>\n",
       "      <td>52</td>\n",
       "      <td>RG283</td>\n",
       "      <td>Entrepreneur</td>\n",
       "      <td>X3</td>\n",
       "      <td>97</td>\n",
       "      <td>Yes</td>\n",
       "      <td>1.114989e+06</td>\n",
       "      <td>No</td>\n",
       "      <td>12881</td>\n",
       "      <td>4</td>\n",
       "      <td>1</td>\n",
       "    </tr>\n",
       "    <tr>\n",
       "      <th>177</th>\n",
       "      <td>I4NYEDFE</td>\n",
       "      <td>Male</td>\n",
       "      <td>49</td>\n",
       "      <td>RG268</td>\n",
       "      <td>Entrepreneur</td>\n",
       "      <td>X1</td>\n",
       "      <td>31</td>\n",
       "      <td>Yes</td>\n",
       "      <td>1.114989e+06</td>\n",
       "      <td>Yes</td>\n",
       "      <td>15125</td>\n",
       "      <td>4</td>\n",
       "      <td>0</td>\n",
       "    </tr>\n",
       "    <tr>\n",
       "      <th>328</th>\n",
       "      <td>68EFFKBB</td>\n",
       "      <td>Male</td>\n",
       "      <td>52</td>\n",
       "      <td>RG268</td>\n",
       "      <td>Entrepreneur</td>\n",
       "      <td>X3</td>\n",
       "      <td>97</td>\n",
       "      <td>Yes</td>\n",
       "      <td>1.558843e+06</td>\n",
       "      <td>Yes</td>\n",
       "      <td>15125</td>\n",
       "      <td>4</td>\n",
       "      <td>1</td>\n",
       "    </tr>\n",
       "    <tr>\n",
       "      <th>...</th>\n",
       "      <td>...</td>\n",
       "      <td>...</td>\n",
       "      <td>...</td>\n",
       "      <td>...</td>\n",
       "      <td>...</td>\n",
       "      <td>...</td>\n",
       "      <td>...</td>\n",
       "      <td>...</td>\n",
       "      <td>...</td>\n",
       "      <td>...</td>\n",
       "      <td>...</td>\n",
       "      <td>...</td>\n",
       "      <td>...</td>\n",
       "    </tr>\n",
       "    <tr>\n",
       "      <th>104945</th>\n",
       "      <td>KIKBQPE4</td>\n",
       "      <td>Male</td>\n",
       "      <td>48</td>\n",
       "      <td>RG284</td>\n",
       "      <td>Entrepreneur</td>\n",
       "      <td>X2</td>\n",
       "      <td>85</td>\n",
       "      <td>No</td>\n",
       "      <td>5.341690e+05</td>\n",
       "      <td>No</td>\n",
       "      <td>8173</td>\n",
       "      <td>4</td>\n",
       "      <td>1</td>\n",
       "    </tr>\n",
       "    <tr>\n",
       "      <th>105046</th>\n",
       "      <td>BKRCA3TY</td>\n",
       "      <td>Male</td>\n",
       "      <td>50</td>\n",
       "      <td>RG283</td>\n",
       "      <td>Entrepreneur</td>\n",
       "      <td>X3</td>\n",
       "      <td>98</td>\n",
       "      <td>Yes</td>\n",
       "      <td>6.557690e+05</td>\n",
       "      <td>No</td>\n",
       "      <td>12881</td>\n",
       "      <td>4</td>\n",
       "      <td>1</td>\n",
       "    </tr>\n",
       "    <tr>\n",
       "      <th>105058</th>\n",
       "      <td>AV2TAEUW</td>\n",
       "      <td>Male</td>\n",
       "      <td>45</td>\n",
       "      <td>RG268</td>\n",
       "      <td>Entrepreneur</td>\n",
       "      <td>X1</td>\n",
       "      <td>61</td>\n",
       "      <td>No</td>\n",
       "      <td>9.357990e+05</td>\n",
       "      <td>No</td>\n",
       "      <td>15125</td>\n",
       "      <td>4</td>\n",
       "      <td>0</td>\n",
       "    </tr>\n",
       "    <tr>\n",
       "      <th>105120</th>\n",
       "      <td>DARHV2RS</td>\n",
       "      <td>Female</td>\n",
       "      <td>49</td>\n",
       "      <td>RG276</td>\n",
       "      <td>Entrepreneur</td>\n",
       "      <td>X3</td>\n",
       "      <td>56</td>\n",
       "      <td>Yes</td>\n",
       "      <td>7.996650e+05</td>\n",
       "      <td>No</td>\n",
       "      <td>1185</td>\n",
       "      <td>2</td>\n",
       "      <td>1</td>\n",
       "    </tr>\n",
       "    <tr>\n",
       "      <th>105254</th>\n",
       "      <td>8ZP5EWSR</td>\n",
       "      <td>Female</td>\n",
       "      <td>48</td>\n",
       "      <td>RG268</td>\n",
       "      <td>Entrepreneur</td>\n",
       "      <td>X3</td>\n",
       "      <td>110</td>\n",
       "      <td>Yes</td>\n",
       "      <td>1.790377e+06</td>\n",
       "      <td>Yes</td>\n",
       "      <td>15125</td>\n",
       "      <td>4</td>\n",
       "      <td>1</td>\n",
       "    </tr>\n",
       "  </tbody>\n",
       "</table>\n",
       "<p>1076 rows × 13 columns</p>\n",
       "</div>"
      ],
      "text/plain": [
       "              ID  Gender  Age Region_Code    Occupation Channel_Code  Vintage  \\\n",
       "41      ICTFGWQR  Female   48       RG268  Entrepreneur           X3      117   \n",
       "71      7IP5SSRR  Female   51       RG283  Entrepreneur           X3       98   \n",
       "81      JTYNEKRQ    Male   52       RG283  Entrepreneur           X3       97   \n",
       "177     I4NYEDFE    Male   49       RG268  Entrepreneur           X1       31   \n",
       "328     68EFFKBB    Male   52       RG268  Entrepreneur           X3       97   \n",
       "...          ...     ...  ...         ...           ...          ...      ...   \n",
       "104945  KIKBQPE4    Male   48       RG284  Entrepreneur           X2       85   \n",
       "105046  BKRCA3TY    Male   50       RG283  Entrepreneur           X3       98   \n",
       "105058  AV2TAEUW    Male   45       RG268  Entrepreneur           X1       61   \n",
       "105120  DARHV2RS  Female   49       RG276  Entrepreneur           X3       56   \n",
       "105254  8ZP5EWSR  Female   48       RG268  Entrepreneur           X3      110   \n",
       "\n",
       "       Credit_Product  Avg_Account_Balance Is_Active  Counts region_type  \\\n",
       "41                Yes         1.114989e+06        No   15125           4   \n",
       "71                Yes         9.230270e+05       Yes   12881           4   \n",
       "81                Yes         1.114989e+06        No   12881           4   \n",
       "177               Yes         1.114989e+06       Yes   15125           4   \n",
       "328               Yes         1.558843e+06       Yes   15125           4   \n",
       "...               ...                  ...       ...     ...         ...   \n",
       "104945             No         5.341690e+05        No    8173           4   \n",
       "105046            Yes         6.557690e+05        No   12881           4   \n",
       "105058             No         9.357990e+05        No   15125           4   \n",
       "105120            Yes         7.996650e+05        No    1185           2   \n",
       "105254            Yes         1.790377e+06       Yes   15125           4   \n",
       "\n",
       "        Is_Lead  \n",
       "41            1  \n",
       "71            1  \n",
       "81            1  \n",
       "177           0  \n",
       "328           1  \n",
       "...         ...  \n",
       "104945        1  \n",
       "105046        1  \n",
       "105058        0  \n",
       "105120        1  \n",
       "105254        1  \n",
       "\n",
       "[1076 rows x 13 columns]"
      ]
     },
     "execution_count": 198,
     "metadata": {},
     "output_type": "execute_result"
    }
   ],
   "source": [
    "test[test[\"Occupation\"]==\"Entrepreneur\"]"
   ]
  },
  {
   "cell_type": "code",
   "execution_count": null,
   "metadata": {},
   "outputs": [],
   "source": []
  }
 ],
 "metadata": {
  "accelerator": "GPU",
  "colab": {
   "collapsed_sections": [],
   "name": "Classification_Project.ipynb",
   "provenance": []
  },
  "kernelspec": {
   "display_name": "Python 3",
   "language": "python",
   "name": "python3"
  },
  "language_info": {
   "codemirror_mode": {
    "name": "ipython",
    "version": 3
   },
   "file_extension": ".py",
   "mimetype": "text/x-python",
   "name": "python",
   "nbconvert_exporter": "python",
   "pygments_lexer": "ipython3",
   "version": "3.7.6"
  }
 },
 "nbformat": 4,
 "nbformat_minor": 1
}
